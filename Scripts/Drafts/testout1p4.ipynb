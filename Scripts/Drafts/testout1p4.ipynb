{
  "nbformat": 4,
  "nbformat_minor": 0,
  "metadata": {
    "colab": {
      "name": "testout1.ipynb",
      "provenance": [],
      "include_colab_link": true
    },
    "kernelspec": {
      "name": "python3",
      "display_name": "Python 3"
    }
  },
  "cells": [
    {
      "cell_type": "markdown",
      "metadata": {
        "id": "view-in-github",
        "colab_type": "text"
      },
      "source": [
        "<a href=\"https://colab.research.google.com/github/cshuler/DL_watershed/blob/master/Scripts/testout1p4.ipynb\" target=\"_parent\"><img src=\"https://colab.research.google.com/assets/colab-badge.svg\" alt=\"Open In Colab\"/></a>"
      ]
    },
    {
      "cell_type": "code",
      "metadata": {
        "id": "71vSeq7_nh0Z",
        "colab_type": "code",
        "colab": {}
      },
      "source": [
        "import os\n",
        "import pandas as pd\n",
        "import numpy as np\n",
        "import matplotlib \n",
        "import matplotlib.pyplot as plt\n",
        "import scipy\n",
        "\n",
        "\n",
        "from sklearn.preprocessing import StandardScaler\n",
        "import keras \n",
        "from keras.models import Sequential\n",
        "from keras.layers import Dense\n",
        "import tensorflow as tf\n",
        "from keras.callbacks import EarlyStopping, ModelCheckpoint\n",
        "from keras.models import load_model\n",
        "from bisect import bisect_left, bisect_right\n",
        "\n",
        "\n",
        "if not os.path.exists(os.path.join('.', 'workspace')):\n",
        "    os.makedirs(os.path.join('.', 'workspace'))\n",
        "workspace = os.path.join('.', 'workspace')\n",
        "\n",
        "pd.set_option('display.max_rows', 30)  "
      ],
      "execution_count": 0,
      "outputs": []
    },
    {
      "cell_type": "code",
      "metadata": {
        "id": "3N5nwzOvnjsO",
        "colab_type": "code",
        "outputId": "e87c3ef6-e609-4a01-94b8-d16cdb72a211",
        "colab": {
          "base_uri": "https://localhost:8080/",
          "height": 195
        }
      },
      "source": [
        "# Clone DL repo.\n",
        "!git clone -l -s git://github.com/cshuler/DL_watershed cloned-repo\n",
        "%cd cloned-repo\n",
        "# note that repo is cloned. Files saved will save to temprary space if in google colab\n",
        "#i.e. try not to save any files you "
      ],
      "execution_count": 2,
      "outputs": [
        {
          "output_type": "stream",
          "text": [
            "Cloning into 'cloned-repo'...\n",
            "warning: --local is ignored\n",
            "remote: Enumerating objects: 4351, done.\u001b[K\n",
            "remote: Counting objects: 100% (4351/4351), done.\u001b[K\n",
            "remote: Compressing objects: 100% (390/390), done.\u001b[K\n",
            "remote: Total 4351 (delta 3937), reused 4335 (delta 3928), pack-reused 0\u001b[K\n",
            "Receiving objects: 100% (4351/4351), 35.73 MiB | 9.75 MiB/s, done.\n",
            "Resolving deltas: 100% (3937/3937), done.\n",
            "Checking out files: 100% (4406/4406), done.\n",
            "/content/cloned-repo\n"
          ],
          "name": "stdout"
        }
      ]
    },
    {
      "cell_type": "markdown",
      "metadata": {
        "id": "wR4Cqu4SXlCG",
        "colab_type": "text"
      },
      "source": [
        "\n",
        "# load up data files\n",
        "\n",
        "\n"
      ]
    },
    {
      "cell_type": "code",
      "metadata": {
        "id": "49aE-zOfpeHl",
        "colab_type": "code",
        "colab": {}
      },
      "source": [
        "# import precip data\n",
        "preciprawdata = pd.read_csv(os.path.join('Raw_Data_tutuila', 'Olkeba_data', 'LBJ_Precip_mm.csv' ), index_col=0,parse_dates=True)\n",
        "\n",
        "#import flow data\n",
        "LBJflowrawdata = pd.read_csv(os.path.join('Raw_Data_tutuila', 'Olkeba_data', 'LBJ_Alex_Q_CFSs.csv'), index_col=0, parse_dates=True)\n",
        "LBJflowrawdata = LBJflowrawdata.resample('D').mean()     # subsample the 15 min data into daily values"
      ],
      "execution_count": 0,
      "outputs": []
    },
    {
      "cell_type": "code",
      "metadata": {
        "id": "aNsd_7X_WRip",
        "colab_type": "code",
        "colab": {}
      },
      "source": [
        "mergeddata = pd.merge(preciprawdata, LBJflowrawdata, how='inner', left_index=True, right_index=True) \n",
        "\n",
        "# deal with the fact that the beginning and end of the datasets are missing, make them \"gaps\"\n",
        "mergeddata['Q_CFS'][0] = mergeddata['Q_CFS'].mean()\n",
        "mergeddata['Q_CFS'][-1] = mergeddata['Q_CFS'].mean()   # by setting the first and last value to the mean. Super dirty...\n",
        "\n",
        "unbroken_data = mergeddata.dropna()       # remove any rows where there is no data (a gap)"
      ],
      "execution_count": 0,
      "outputs": []
    },
    {
      "cell_type": "code",
      "metadata": {
        "id": "4Ix-KN46O_2x",
        "colab_type": "code",
        "colab": {}
      },
      "source": [
        ""
      ],
      "execution_count": 0,
      "outputs": []
    },
    {
      "cell_type": "code",
      "metadata": {
        "id": "nhwpYj5mGWhP",
        "colab_type": "code",
        "colab": {}
      },
      "source": [
        "# This is the function to mke a training dataset. \n",
        "\"\"\" Variables are: \n",
        "    unbroken_data:   is a pandas dataframe of weather variable data, with datetimmes as the index\n",
        "    x_cols:          is a LIST of the column names for the input variables\n",
        "    y_col:           is the name (string) of the column of the output variable\n",
        "    TS_value:     is a decimal value defining how much of the dataset to use for training vs validation (0.99) = 99% training 1% validation\n",
        "    \n",
        "(Maybe use NAME: as a string name to assosiate with the output of this function?)\n",
        "\"\"\"\n",
        "\n",
        "def make_training_dataset(unbroken_data, x_cols, y_col, TS_value = 0.80):\n",
        "    \n",
        "    TRAIN_SPLIT = int(len(unbroken_data)*TS_value)     \n",
        "    # split data for train and validation\n",
        "    train_data = unbroken_data.iloc[:TRAIN_SPLIT]\n",
        "    val_data = unbroken_data.iloc[TRAIN_SPLIT:]\n",
        "\n",
        "    # set up the training datasets\n",
        "    X_train = train_data[x_cols].values  \n",
        "    # scale the x component of the training data\n",
        "    X_train_scaler = StandardScaler().fit(X_train)\n",
        "    X_train = X_train_scaler.transform(X_train)\n",
        "\n",
        "    y_train = train_data[y_col].values                 # scale the y data too, and then make the scale unique to use it to unscale the final data later\n",
        "    y_train = y_train.reshape(-1, 1)\n",
        "    y_train_scaler = StandardScaler().fit(y_train)\n",
        "    y_train = y_train_scaler.transform(y_train)\n",
        "\n",
        "\n",
        "    # set up the validation datasets\n",
        "    X_val = val_data[x_cols].values  \n",
        "    # scale the x component of the training data\n",
        "    X_val_scaler = StandardScaler().fit(X_val)\n",
        "    X_val = X_val_scaler.transform(X_val)\n",
        "\n",
        "    y_val = val_data[y_col].values\n",
        "    y_val = y_val.reshape(-1, 1)\n",
        "    y_val_scaler = StandardScaler().fit(y_val)\n",
        "    y_val = y_val_scaler.transform(y_val)\n",
        "\n",
        "    return X_train, y_train, X_val, y_val, train_data, val_data, y_train_scaler, y_val_scaler, X_train_scaler"
      ],
      "execution_count": 0,
      "outputs": []
    },
    {
      "cell_type": "code",
      "metadata": {
        "id": "hgPv05D_G_6n",
        "colab_type": "code",
        "colab": {}
      },
      "source": [
        ""
      ],
      "execution_count": 0,
      "outputs": []
    },
    {
      "cell_type": "code",
      "metadata": {
        "id": "Czav3Z-JFIN_",
        "colab_type": "code",
        "colab": {}
      },
      "source": [
        "# format trainng and validation data\n",
        "\n",
        "x_cols = ['Precip_mm']           # define variable used for prediction\n",
        "y_col  = 'Q_CFS'                    # define which variable to predict\n",
        "\n",
        "X_train, y_train, X_val, y_val, train_data, val_data, y_train_scaler, y_val_scaler, X_train_scaler =  make_training_dataset(unbroken_data, x_cols, y_col, TS_value=0.8)"
      ],
      "execution_count": 0,
      "outputs": []
    },
    {
      "cell_type": "code",
      "metadata": {
        "id": "G3CrBls7Rx_w",
        "colab_type": "code",
        "colab": {}
      },
      "source": [
        ""
      ],
      "execution_count": 0,
      "outputs": []
    },
    {
      "cell_type": "code",
      "metadata": {
        "id": "For77DMeFIYS",
        "colab_type": "code",
        "colab": {
          "base_uri": "https://localhost:8080/",
          "height": 550
        },
        "outputId": "0a92a880-3691-4854-cf19-8a6176a15e34"
      },
      "source": [
        "### This is used to Identify and label places where there are gaps in the data\n",
        "\n",
        "def find_date_gaps(dataset_raw, Colinterest):\n",
        "\n",
        "    a = dataset_raw[Colinterest].values  # Extract out relevant column from dataframe as array\n",
        "    ## Now gap filling time: \n",
        "    # First: all of this is to go through each dataset and identify the start and the end of each gap. \n",
        "\n",
        "    m = np.concatenate(( [True], np.isnan(a), [True] ))  # Mask\n",
        "    ss = np.flatnonzero(m[1:] != m[:-1]).reshape(-1,2)   # Start-stop limits\n",
        "\n",
        "    gapstarts_L = []; gapends_L = []\n",
        "    # this is if the series started late, i.e. the first gap is at the beginning\n",
        "    if ss[0][0] != 0:     \n",
        "        gapstart = 0\n",
        "        gapstarts_L.append(gapstart)\n",
        "        for m in ss:\n",
        "            gapstart2 = m[1]\n",
        "            gapstarts_L.append(gapstart2)\n",
        "            gapends_L.append(m[0])\n",
        "        del gapstarts_L[-1]                       # the end number is not the start of a new gap so delete this \n",
        "\n",
        "    # this is if the series starst at the beginning of the data period, first gap is in the middle \n",
        "    for m in ss:\n",
        "        gapstarts_L.append(m[1])\n",
        "        gapends_L.append(m[0])\n",
        "    del gapstarts_L[-1]\n",
        "    del gapends_L[0]\n",
        "\n",
        "    gapstarts_Dates = []; gapends_Dates = []\n",
        "    for h in gapstarts_L:\n",
        "        date5 = dataset_raw.index[h]\n",
        "        gapstarts_Dates.append(date5)   # this is a list of the starting date of all gaps\n",
        "    for h in gapends_L:\n",
        "        date5 = dataset_raw.index[h]\n",
        "        gapends_Dates.append(date5)     # this is a list of all the ending dates of the gaps\n",
        "           \n",
        "    # list the \n",
        "    for idx, val in enumerate(gapstarts_Dates):\n",
        "        length = gapends_Dates[idx] -gapstarts_Dates[idx]\n",
        "        print(\"gap {} is {} from {} to {}\".format(idx, length, gapstarts_Dates[idx], gapends_Dates[idx] ))\n",
        "    \n",
        "    return gapstarts_Dates, gapends_Dates\n",
        "\n",
        "# run the function and see where there are date gaps\n",
        "find_date_gaps(mergeddata, 'Q_CFS')"
      ],
      "execution_count": 7,
      "outputs": [
        {
          "output_type": "stream",
          "text": [
            "gap 0 is 5 days 00:00:00 from 2012-01-02 00:00:00 to 2012-01-07 00:00:00\n",
            "gap 1 is 6 days 00:00:00 from 2012-04-04 00:00:00 to 2012-04-10 00:00:00\n",
            "gap 2 is 5 days 00:00:00 from 2012-07-10 00:00:00 to 2012-07-15 00:00:00\n",
            "gap 3 is 123 days 00:00:00 from 2012-10-11 00:00:00 to 2013-02-11 00:00:00\n",
            "gap 4 is 137 days 00:00:00 from 2013-09-26 00:00:00 to 2014-02-10 00:00:00\n",
            "gap 5 is 7 days 00:00:00 from 2014-09-24 00:00:00 to 2014-10-01 00:00:00\n",
            "gap 6 is 1 days 00:00:00 from 2014-10-09 00:00:00 to 2014-10-10 00:00:00\n",
            "gap 7 is 230 days 00:00:00 from 2015-06-20 00:00:00 to 2016-02-05 00:00:00\n",
            "gap 8 is 5 days 00:00:00 from 2016-06-24 00:00:00 to 2016-06-29 00:00:00\n",
            "gap 9 is 79 days 00:00:00 from 2016-10-13 00:00:00 to 2016-12-31 00:00:00\n"
          ],
          "name": "stdout"
        },
        {
          "output_type": "execute_result",
          "data": {
            "text/plain": [
              "([Timestamp('2012-01-02 00:00:00'),\n",
              "  Timestamp('2012-04-04 00:00:00'),\n",
              "  Timestamp('2012-07-10 00:00:00'),\n",
              "  Timestamp('2012-10-11 00:00:00'),\n",
              "  Timestamp('2013-09-26 00:00:00'),\n",
              "  Timestamp('2014-09-24 00:00:00'),\n",
              "  Timestamp('2014-10-09 00:00:00'),\n",
              "  Timestamp('2015-06-20 00:00:00'),\n",
              "  Timestamp('2016-06-24 00:00:00'),\n",
              "  Timestamp('2016-10-13 00:00:00')],\n",
              " [Timestamp('2012-01-07 00:00:00'),\n",
              "  Timestamp('2012-04-10 00:00:00'),\n",
              "  Timestamp('2012-07-15 00:00:00'),\n",
              "  Timestamp('2013-02-11 00:00:00'),\n",
              "  Timestamp('2014-02-10 00:00:00'),\n",
              "  Timestamp('2014-10-01 00:00:00'),\n",
              "  Timestamp('2014-10-10 00:00:00'),\n",
              "  Timestamp('2016-02-05 00:00:00'),\n",
              "  Timestamp('2016-06-29 00:00:00'),\n",
              "  Timestamp('2016-12-31 00:00:00')])"
            ]
          },
          "metadata": {
            "tags": []
          },
          "execution_count": 7
        }
      ]
    },
    {
      "cell_type": "code",
      "metadata": {
        "id": "G0Z7Hc43NZ6b",
        "colab_type": "code",
        "colab": {}
      },
      "source": [
        ""
      ],
      "execution_count": 0,
      "outputs": []
    },
    {
      "cell_type": "code",
      "metadata": {
        "id": "bC7yFoKxNZ-k",
        "colab_type": "code",
        "colab": {
          "base_uri": "https://localhost:8080/",
          "height": 337
        },
        "outputId": "5b9b5530-6283-4753-bb66-22158331c99f"
      },
      "source": [
        "# this is the creation of the DLNN model as a function\n",
        "def define_model_dense(hidden_layer_sizes, input_shape, activation='relu', optimizer='sgd'):\n",
        "    \n",
        "    model = \"reset\"; del model   # redefine, then delete model to make sure previous model weights are DESTROIED!\n",
        "    model = Sequential()\n",
        "    \n",
        "    model.add(Dense(hidden_layer_sizes[0], activation=activation, input_shape=(input_shape, )))\n",
        "    for hl_size in hidden_layer_sizes[1: ]:\n",
        "        model.add(Dense(hl_size, activation=activation))\n",
        "    \n",
        "    model.add(Dense(1, activation='linear'))\n",
        "    model.summary()\n",
        "\n",
        "    model.compile(loss='mean_squared_error', optimizer=optimizer, metrics=['mean_squared_error'])\n",
        "    \n",
        "    return model\n",
        "\n",
        "\n",
        "# Define the model: \n",
        "\n",
        "# DL hyperparameters\n",
        "hidden_layer_sizes =  [2, 4, 8, 4]\n",
        "activation     = 'relu'\n",
        "optimizer      = 'sgd'\n",
        "input_shape    = 1           # this is the number of different variables used for training datasets\n",
        "\n",
        "model = \"reset\"; del model                                                           # redefine, then delete model to make sure previous model weights are DESTROIED!\n",
        "model = define_model_dense(hidden_layer_sizes, input_shape, activation, optimizer)"
      ],
      "execution_count": 125,
      "outputs": [
        {
          "output_type": "stream",
          "text": [
            "Model: \"sequential_3\"\n",
            "_________________________________________________________________\n",
            "Layer (type)                 Output Shape              Param #   \n",
            "=================================================================\n",
            "dense_10 (Dense)             (None, 2)                 4         \n",
            "_________________________________________________________________\n",
            "dense_11 (Dense)             (None, 4)                 12        \n",
            "_________________________________________________________________\n",
            "dense_12 (Dense)             (None, 8)                 40        \n",
            "_________________________________________________________________\n",
            "dense_13 (Dense)             (None, 4)                 36        \n",
            "_________________________________________________________________\n",
            "dense_14 (Dense)             (None, 1)                 5         \n",
            "=================================================================\n",
            "Total params: 97\n",
            "Trainable params: 97\n",
            "Non-trainable params: 0\n",
            "_________________________________________________________________\n"
          ],
          "name": "stdout"
        }
      ]
    },
    {
      "cell_type": "code",
      "metadata": {
        "id": "EqyD5vErL1J5",
        "colab_type": "code",
        "colab": {
          "base_uri": "https://localhost:8080/",
          "height": 52
        },
        "outputId": "867c3396-429c-4b0a-991c-e47e545bc323"
      },
      "source": [
        "# run the model\n",
        "\n",
        "# Note using callbacks from ( https://www.machinecurve.com/index.php/2019/05/30/avoid-wasting-resources-with-earlystopping-and-modelcheckpoint-in-keras/ )\n",
        "checkpoint_path = os.path.join(workspace, 'testmodel_random_callback_save2.h5')\n",
        "\n",
        "keras_callbacks   = [EarlyStopping(monitor='val_loss', patience=300, mode='min', min_delta=0.001),\n",
        "                      ModelCheckpoint(checkpoint_path, monitor='val_loss', save_best_only=True, mode='min')]\n",
        "\n",
        "history = model.fit(X_train, y_train, epochs=2000,verbose=0, validation_data =(X_val,  y_val), callbacks=keras_callbacks)\n",
        "\n",
        "## load the best saved model based on validation loss\n",
        "model = load_model(checkpoint_path)\n",
        "scores = model.evaluate(X_train, y_train, verbose=1)\n",
        "print(f'Score: {model.metrics_names[0]} of {scores[0]}; {model.metrics_names[1]} of {scores[1]*100}%')"
      ],
      "execution_count": 126,
      "outputs": [
        {
          "output_type": "stream",
          "text": [
            "983/983 [==============================] - 0s 141us/step\n",
            "Score: loss of 0.37372303833675286; mean_squared_error of 37.37230383367528%\n"
          ],
          "name": "stdout"
        }
      ]
    },
    {
      "cell_type": "code",
      "metadata": {
        "id": "JS-W1AgnL1He",
        "colab_type": "code",
        "colab": {
          "base_uri": "https://localhost:8080/",
          "height": 433
        },
        "outputId": "3aa3dc67-7212-4755-e862-51d0ea0e2f6c"
      },
      "source": [
        "#### Plot results\n",
        "fig, ax = plt.subplots(1, 3, figsize=(9, 3))\n",
        "####################################################     DELETE   fig.suptitle('Validation test plots', fontsize=16)\n",
        "\n",
        "######## plot 1 to 1 for # view results of predictions on the calibration data \n",
        "y_pred_calibration = model.predict(X_train)\n",
        "y_pred_calibration = y_train_scaler.inverse_transform(y_pred_calibration)    # unscale the final data baed on the scaler from the initial scaling cell abovee\n",
        "\n",
        "xcal = np.squeeze(train_data[y_col].values)\n",
        "ycal = np.squeeze(y_pred_calibration)\n",
        "slope, intercept, r_value, p_value, std_err = scipy.stats.linregress(xcal, ycal)                              # get stats on regression\n",
        "mea = np.mean(np.abs(xcal-ycal))\n",
        "rmse = np.sqrt(np.mean(np.abs(xcal-ycal)**2))                                     # couple more basic stats on the residuals, Mean absolute errir and root RMSE root mean squared error\n",
        "Std_RMSE = rmse/((np.mean(xcal)+np.mean(ycal))/2)                                 # standardize the RMSE as a % of the mean\n",
        "ax[0].plot(np.unique(xcal), np.poly1d(np.polyfit(xcal, ycal, 1))(np.unique(xcal)),  color = 'k', linestyle = \"--\")    # plot the linear regresion line \n",
        "ax[0].scatter(xcal, ycal, label=\"r2={0:1.2f}, slope={1:1.2f}\\nRMSE={2:1.2f} S_RMSE={3:1.2f}\".format(r_value, slope, rmse, Std_RMSE))   \n",
        "ax[0].set_title('Actual vs simulated data Calibration')\n",
        "ax[0].legend()\n",
        "plt.tight_layout()\n",
        "\n",
        "###### Plot losses\n",
        "ax[1].set_title('Loss vs. Epoch {}'.format(y_col))\n",
        "ax[1].plot(history.history['loss'])\n",
        "ax[1].plot(history.history['val_loss'])\n",
        "plt.tight_layout()\n",
        "\n",
        "###### plot 1 to 1 for # view results of predictions on the validation data \n",
        "y_pred_validation = model.predict(X_val)\n",
        "y_pred_validation = y_val_scaler.inverse_transform(y_pred_validation)    # unscale the final data baed on the scaler from the initial scaling cell abovee\n",
        "plt.tight_layout()\n",
        "\n",
        "xval = np.squeeze(val_data[y_col].values)\n",
        "yval = np.squeeze(y_pred_validation)\n",
        "slope, intercept, r_value, p_value, std_err = scipy.stats.linregress(xval, yval)                              # get stats on regression\n",
        "mea = np.mean(np.abs(xval-yval))\n",
        "rmse = np.sqrt(np.mean(np.abs(xval-yval)**2))                                     # couple more basic stats on the residuals, Mean absolute errir and root RMSE root mean squared error\n",
        "Std_RMSE = rmse/((np.mean(xval)+np.mean(yval))/2)                                 # standardize the RMSE as a % of the mean\n",
        "ax[2].plot(np.unique(xval), np.poly1d(np.polyfit(xval, yval, 1))(np.unique(xval)),  color = 'k', linestyle = \"--\")    # plot the linear regresion line \n",
        "ax[2].scatter(xval, yval, label=\"r2={0:1.2f}, slope={1:1.2f}\\nRMSE={2:1.2f} S_RMSE={3:1.2f}\".format(r_value, slope, rmse, Std_RMSE))   \n",
        "ax[2].set_title('Actual vs simulated data Validation')\n",
        "ax[2].legend()\n",
        "plt.tight_layout() \n",
        "\n",
        "##### time series plot\n",
        "plt.figure(figsize=(8, 3))\n",
        "plt.plot(train_data.index, ycal, label='Predicted train {}'.format(y_col))\n",
        "train_data[y_col].plot(label='Actual train {}'.format(y_col) , alpha = .5)\n",
        "plt.plot(val_data.index, yval, label='Predicted validate')\n",
        "val_data[y_col].plot(label='Actual validate', alpha = .5)\n",
        "plt.legend(loc='best')\n",
        "plt.tight_layout()"
      ],
      "execution_count": 127,
      "outputs": [
        {
          "output_type": "display_data",
          "data": {
            "image/png": "[encoded data removed]",
            "text/plain": [
              "<Figure size 648x216 with 3 Axes>"
            ]
          },
          "metadata": {
            "tags": []
          }
        },
        {
          "output_type": "display_data",
          "data": {
            "image/png": "[encoded data removed]",
            "text/plain": [
              "<Figure size 576x216 with 1 Axes>"
            ]
          },
          "metadata": {
            "tags": []
          }
        }
      ]
    },
    {
      "cell_type": "code",
      "metadata": {
        "id": "OM3JIOwxVSVb",
        "colab_type": "code",
        "colab": {}
      },
      "source": [
        ""
      ],
      "execution_count": 0,
      "outputs": []
    },
    {
      "cell_type": "code",
      "metadata": {
        "id": "_0CpRsYYVSZ9",
        "colab_type": "code",
        "colab": {
          "base_uri": "https://localhost:8080/",
          "height": 279
        },
        "outputId": "88cdb85f-cc14-4bc3-acbe-cae667b069b7"
      },
      "source": [
        "X_fill = preciprawdata['Precip_mm'].to_numpy()\n",
        "X_fill =  X_train_scaler.transform([X_fill])                           # scale existing data in other columns \n",
        "\n",
        "# now model streamflow for the whole period where we have precip data\n",
        "y_pred_fill = model.predict(np.squeeze(X_fill))\n",
        "y_pred_fill = y_train_scaler.inverse_transform(y_pred_fill)    # unscale the final data baed on the scaler from the initial scaling cell above \n",
        "\n",
        "Magicdata = preciprawdata.copy()\n",
        "Magicdata['DL_Q_cfs'] = y_pred_fill\n",
        "\n",
        "Magicdata.plot()\n",
        "\n",
        "del Magicdata.index.name   # baseflow separator wont work without this"
      ],
      "execution_count": 128,
      "outputs": [
        {
          "output_type": "display_data",
          "data": {
            "image/png": "[encoded data removed]",
            "text/plain": [
              "<Figure size 432x288 with 1 Axes>"
            ]
          },
          "metadata": {
            "tags": []
          }
        }
      ]
    },
    {
      "cell_type": "code",
      "metadata": {
        "id": "N8KMH8tkVSdc",
        "colab_type": "code",
        "colab": {}
      },
      "source": [
        ""
      ],
      "execution_count": 0,
      "outputs": []
    },
    {
      "cell_type": "code",
      "metadata": {
        "id": "MPiK8pVRl0wM",
        "colab_type": "code",
        "colab": {}
      },
      "source": [
        ""
      ],
      "execution_count": 0,
      "outputs": []
    },
    {
      "cell_type": "code",
      "metadata": {
        "id": "v26Uuh8nXKc5",
        "colab_type": "code",
        "colab": {}
      },
      "source": [
        "# now need to baseflow separate, and see how it predicts BF-RO partitioning and figure out some classic hydrograph stats, med flow mean flow, 90% low flow 100 year flood etc...\n",
        "\n",
        "import pandas as pd\n",
        "import numpy as np\n",
        "import matplotlib.pyplot as plt\n",
        "import matplotlib \n",
        "\n",
        "\n",
        "def baseflow_separator(date_vector, flow_vector, plotme=False, Station_name=None):\n",
        "   \n",
        "    N = 5                     # averaging window, number of days\n",
        "    tp_test_factor = 0.9      # turning point test factor     (If 90 percent of a given minimum (the “turning point test factor”) is less than both adjacent minimums, then that minimum is a turning point.)\n",
        "                                                                              # eill be final processed dictionary of dataframes\n",
        "    Site=[]; SumTotal=[]; SumBF=[]; SumRO=[]; AveTotal=[]; AveBF=[]; AveRO=[]; BFTF=[]; ROTF=[]  # lists for sumary dataframe\n",
        "\n",
        "    mean_dates = []; mins = []; means = []\n",
        "    for i in range(1,len(date_vector)-N,N):                         # mikes code, still not sure I understand it all\n",
        "        N_day_data = []\n",
        "        for j in range(0,N-1):\n",
        "            N_day_data.append(float(flow_vector[i+j]))\n",
        "        mean_dates.append(date_vector[i+(N//2)])\n",
        "        mean_point = [date_vector[i+(N//2)]]\n",
        "        N_day_mean = np.mean(N_day_data)\n",
        "        mean_point.append(N_day_mean)\n",
        "        means.append(mean_point)\n",
        "        min_point = [date_vector[i+(N//2)]]\n",
        "        N_day_min = np.min(N_day_data)\n",
        "        min_point.append(N_day_min)\n",
        "        mins.append(min_point)\n",
        "\n",
        "    turning_points = []; tp_dates = []; tp_flow = []; sf_dates = []; sf_flow = [];     # mikes code, still not sure I understand it all\n",
        "    for i in range(0,len(mins)-1,1):\n",
        "        if (tp_test_factor*(mins[i][1]))<mins[i+1][1] and (tp_test_factor*(mins[i][1]))<mins[i-1][1]:\n",
        "            turning_points.append(mins[i])\n",
        "            tp_dates.append(mins[i][0])\n",
        "            tp_flow.append(mins[i][1])\n",
        "\n",
        "    keyname = 'Total_flow_{}'.format(Station_name)         \n",
        "            \n",
        "    Total_flows = pd.DataFrame({'Date': date_vector, keyname: flow_vector })\n",
        "    Baseflows = pd.DataFrame({'Date': tp_dates, 'Base_flow_CFS': tp_flow })  \n",
        "    All_flows = Total_flows.merge(Baseflows, how='outer', on='Date')                     # final dataframe with separated values of flow\n",
        "    All_flows['Base_flow_CFS'].interpolate(inplace=True)                                 # baseflows were only calculated at turning points. here linearly interpolate to give a value for each day\n",
        "    All_flows['Runoff_CFS'] = All_flows[keyname] - All_flows['Base_flow_CFS']\n",
        "    All_flows['Runoff_CFS'] = All_flows['Runoff_CFS'].clip(lower=0)    # convert any negative runoff values to zero\n",
        "\n",
        "    RO_mean = All_flows['Runoff_CFS'].mean()\n",
        "    BF_mean = All_flows['Base_flow_CFS'].mean()\n",
        "    TF_mean = All_flows[keyname].mean()   \n",
        "    \n",
        "    # plot stuff\n",
        "    if plotme == True:\n",
        "        fig, ax = plt.subplots(figsize=(8, 3))\n",
        "        ax.plot(All_flows['Date'],All_flows[keyname], '-',label='Total daily flow', marker='.')\n",
        "        ax.plot(All_flows['Date'],All_flows['Base_flow_CFS'], '-',label='Baseflow', marker='.')\n",
        "        ax.set_title(\"Baseflow separated Streamflow at {}\".format(Station_name))\n",
        "        ax.legend()\n",
        "        plt.ylabel('Discharge (CFS)')\n",
        "\n",
        "        plt.xticks(rotation=20)\n",
        "        plt.tight_layout()\n",
        "        \n",
        "    #print(\"Ave.RO = {:.2f}, Ave.BF = {:.2f}, Ave.TF = {:.2f}\".format(RO_mean, BF_mean, TF_mean))\n",
        "\n",
        "    return All_flows, RO_mean, BF_mean, TF_mean\n"
      ],
      "execution_count": 0,
      "outputs": []
    },
    {
      "cell_type": "code",
      "metadata": {
        "id": "OQjf_X6UYYQ2",
        "colab_type": "code",
        "colab": {}
      },
      "source": [
        ""
      ],
      "execution_count": 0,
      "outputs": []
    },
    {
      "cell_type": "code",
      "metadata": {
        "id": "laKk34NPYwP3",
        "colab_type": "code",
        "colab": {}
      },
      "source": [
        "\n"
      ],
      "execution_count": 0,
      "outputs": []
    },
    {
      "cell_type": "code",
      "metadata": {
        "id": "uQ4yGgdKZqU9",
        "colab_type": "code",
        "colab": {
          "base_uri": "https://localhost:8080/",
          "height": 106
        },
        "outputId": "acf15c65-5b8b-4f81-a5b7-5b2ab5ce3fef"
      },
      "source": [
        "# calculate streamflow stats on each tineseries\n",
        "\n",
        "MF_mean = Magicdata['DL_Q_cfs'].mean()\n",
        "print(\"actual flow mean is {}, magic flow mean is {} CFS\".format(LBJflowrawdata.mean().values, MF_mean))\n",
        "\n",
        "MF_med = Magicdata['DL_Q_cfs'].median()\n",
        "print(\"actual flow median is {}, magic flow median is {} CFS\".format(LBJflowrawdata.median().values, MF_med))\n",
        "\n",
        "All_flows_real, RO_mean_real, BF_mean_real, TF_mean_real = baseflow_separator(LBJflowrawdata.index, LBJflowrawdata['Q_CFS'])\n",
        "All_flows_magic, RO_mean_magic, BF_mean_magic, TF_mean_magic = baseflow_separator(Magicdata.index, Magicdata['DL_Q_cfs'])\n",
        "\n",
        "print(\"actual flow BF is {}, magic flow BF is {} CFS\".format(BF_mean_real, BF_mean_magic))\n",
        "print(\"actual flow RO is {}, magic flow RO is {} CFS\".format(RO_mean_real, RO_mean_magic))\n",
        "\n",
        "# Calculate exceedednce values\n",
        "Desired_Q_exceed_value = .90\n",
        "\n",
        "data = Magicdata['DL_Q_cfs'].to_numpy()\n",
        "sort = np.sort(data)[::-1]\n",
        "exceedence = np.arange(1.,len(sort)+1) / len(sort)\n",
        "excedenceframe = pd.DataFrame(data=sort, index=exceedence, columns=['flow'])\n",
        "idx = bisect_left(excedenceframe.index, Desired_Q_exceed_value)\n",
        "Magic_sceed_flow = excedenceframe[\"flow\"].iloc[idx]\n",
        "\n",
        "LBJflowrawdata = LBJflowrawdata.dropna() # need to drop nan rows first\n",
        "data = LBJflowrawdata['Q_CFS'].to_numpy()\n",
        "sort = np.sort(data)[::-1]\n",
        "exceedence = np.arange(1.,len(sort)+1) / len(sort)\n",
        "excedenceframe = pd.DataFrame(data=sort, index=exceedence, columns=['flow'])\n",
        "idx = bisect_left(excedenceframe.index, Desired_Q_exceed_value)\n",
        "real_sceed_flow = excedenceframe[\"flow\"].iloc[idx]\n",
        "\n",
        "print('The Q_{} value is {} for real data and {} for magic data'.format(Desired_Q_exceed_value, real_sceed_flow, Magic_sceed_flow))\n"
      ],
      "execution_count": 130,
      "outputs": [
        {
          "output_type": "stream",
          "text": [
            "actual flow mean is [7.0178287], magic flow mean is 7.333120822906494 CFS\n",
            "actual flow median is [4.25615707], magic flow median is 5.116145610809326 CFS\n",
            "actual flow BF is 3.3047185914476676, magic flow BF is 5.117574851262515 CFS\n",
            "actual flow RO is 3.738101516345077, magic flow RO is 2.210914019101287 CFS\n",
            "The Q_0.9 value is 2.515436652083331 for real data and 5.116145610809326 for magic data\n"
          ],
          "name": "stdout"
        }
      ]
    },
    {
      "cell_type": "code",
      "metadata": {
        "id": "jqrFU09X2-uU",
        "colab_type": "code",
        "colab": {}
      },
      "source": [
        ""
      ],
      "execution_count": 0,
      "outputs": []
    }
  ]
}