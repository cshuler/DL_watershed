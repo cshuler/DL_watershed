{
  "nbformat": 4,
  "nbformat_minor": 0,
  "metadata": {
    "colab": {
      "name": "testout1.ipynb",
      "provenance": []
    },
    "kernelspec": {
      "name": "python3",
      "display_name": "Python 3"
    },
    "accelerator": "GPU"
  },
  "cells": [
    {
      "cell_type": "code",
      "metadata": {
        "id": "71vSeq7_nh0Z",
        "colab_type": "code",
        "colab": {
          "base_uri": "https://localhost:8080/",
          "height": 81
        },
        "outputId": "ae9d21ec-da27-4e3b-8591-88620a0f0119"
      },
      "source": [
        "# import modules\n",
        "import os\n",
        "import pandas as pd\n",
        "import numpy as np\n",
        "import matplotlib \n",
        "import matplotlib.pyplot as plt\n",
        "import scipy\n",
        "from sklearn.preprocessing import StandardScaler\n",
        "import keras \n",
        "from keras.models import Sequential\n",
        "from keras.layers import Dense\n",
        "import tensorflow as tf\n",
        "from keras.callbacks import EarlyStopping, ModelCheckpoint\n",
        "from keras.models import load_model\n",
        "from bisect import bisect_left, bisect_right\n",
        "\n",
        "# provide random seed for reproducible results\n",
        "np.random.seed(696007)\n",
        "tf.set_random_seed(696007)\n",
        "\n",
        "# set options \n",
        "pd.set_option('display.max_rows', 30)  "
      ],
      "execution_count": 1,
      "outputs": [
        {
          "output_type": "stream",
          "text": [
            "Using TensorFlow backend.\n"
          ],
          "name": "stderr"
        },
        {
          "output_type": "display_data",
          "data": {
            "text/html": [
              "<p style=\"color: red;\">\n",
              "The default version of TensorFlow in Colab will soon switch to TensorFlow 2.x.<br>\n",
              "We recommend you <a href=\"https://www.tensorflow.org/guide/migrate\" target=\"_blank\">upgrade</a> now \n",
              "or ensure your notebook will continue to use TensorFlow 1.x via the <code>%tensorflow_version 1.x</code> magic:\n",
              "<a href=\"https://colab.research.google.com/notebooks/tensorflow_version.ipynb\" target=\"_blank\">more info</a>.</p>\n"
            ],
            "text/plain": [
              "<IPython.core.display.HTML object>"
            ]
          },
          "metadata": {
            "tags": []
          }
        }
      ]
    },
    {
      "cell_type": "code",
      "metadata": {
        "id": "3N5nwzOvnjsO",
        "colab_type": "code",
        "outputId": "4993b580-f49a-4abf-c5e8-4bf4bb2ab979",
        "colab": {
          "base_uri": "https://localhost:8080/",
          "height": 173
        }
      },
      "source": [
        "# Clone DL GitHub repo. \n",
        "!git clone -l -s git://github.com/cshuler/DL_watershed cloned-repo\n",
        "# get the cwd to be the folder where this script is located to perserve relative paths\n",
        "%cd cloned-repo/Scripts    \n",
        "# note that repo is cloned. Files saved will save to temprary space if in google colab\n",
        "\n",
        "# create workspace\n",
        "if not os.path.exists(os.path.join('.', 'workspace')):\n",
        "    os.makedirs(os.path.join('.', 'workspace'))\n",
        "workspace = os.path.join('.', 'workspace')"
      ],
      "execution_count": 2,
      "outputs": [
        {
          "output_type": "stream",
          "text": [
            "Cloning into 'cloned-repo'...\n",
            "warning: --local is ignored\n",
            "remote: Enumerating objects: 4401, done.\u001b[K\n",
            "remote: Counting objects:   0% (1/4401)\u001b[K\rremote: Counting objects:   1% (45/4401)\u001b[K\rremote: Counting objects:   2% (89/4401)\u001b[K\rremote: Counting objects:   3% (133/4401)\u001b[K\rremote: Counting objects:   4% (177/4401)\u001b[K\rremote: Counting objects:   5% (221/4401)\u001b[K\rremote: Counting objects:   6% (265/4401)\u001b[K\rremote: Counting objects:   7% (309/4401)\u001b[K\rremote: Counting objects:   8% (353/4401)\u001b[K\rremote: Counting objects:   9% (397/4401)\u001b[K\rremote: Counting objects:  10% (441/4401)\u001b[K\rremote: Counting objects:  11% (485/4401)\u001b[K\rremote: Counting objects:  12% (529/4401)\u001b[K\rremote: Counting objects:  13% (573/4401)\u001b[K\rremote: Counting objects:  14% (617/4401)\u001b[K\rremote: Counting objects:  15% (661/4401)\u001b[K\rremote: Counting objects:  16% (705/4401)\u001b[K\rremote: Counting objects:  17% (749/4401)\u001b[K\rremote: Counting objects:  18% (793/4401)\u001b[K\rremote: Counting objects:  19% (837/4401)\u001b[K\rremote: Counting objects:  20% (881/4401)\u001b[K\rremote: Counting objects:  21% (925/4401)\u001b[K\rremote: Counting objects:  22% (969/4401)\u001b[K\rremote: Counting objects:  23% (1013/4401)\u001b[K\rremote: Counting objects:  24% (1057/4401)\u001b[K\rremote: Counting objects:  25% (1101/4401)\u001b[K\rremote: Counting objects:  26% (1145/4401)\u001b[K\rremote: Counting objects:  27% (1189/4401)\u001b[K\rremote: Counting objects:  28% (1233/4401)\u001b[K\rremote: Counting objects:  29% (1277/4401)\u001b[K\rremote: Counting objects:  30% (1321/4401)\u001b[K\rremote: Counting objects:  31% (1365/4401)\u001b[K\rremote: Counting objects:  32% (1409/4401)\u001b[K\rremote: Counting objects:  33% (1453/4401)\u001b[K\rremote: Counting objects:  34% (1497/4401)\u001b[K\rremote: Counting objects:  35% (1541/4401)\u001b[K\rremote: Counting objects:  36% (1585/4401)\u001b[K\rremote: Counting objects:  37% (1629/4401)\u001b[K\rremote: Counting objects:  38% (1673/4401)\u001b[K\rremote: Counting objects:  39% (1717/4401)\u001b[K\rremote: Counting objects:  40% (1761/4401)\u001b[K\rremote: Counting objects:  41% (1805/4401)\u001b[K\rremote: Counting objects:  42% (1849/4401)\u001b[K\rremote: Counting objects:  43% (1893/4401)\u001b[K\rremote: Counting objects:  44% (1937/4401)\u001b[K\rremote: Counting objects:  45% (1981/4401)\u001b[K\rremote: Counting objects:  46% (2025/4401)\u001b[K\rremote: Counting objects:  47% (2069/4401)\u001b[K\rremote: Counting objects:  48% (2113/4401)\u001b[K\rremote: Counting objects:  49% (2157/4401)\u001b[K\rremote: Counting objects:  50% (2201/4401)\u001b[K\rremote: Counting objects:  51% (2245/4401)\u001b[K\rremote: Counting objects:  52% (2289/4401)\u001b[K\rremote: Counting objects:  53% (2333/4401)\u001b[K\rremote: Counting objects:  54% (2377/4401)\u001b[K\rremote: Counting objects:  55% (2421/4401)\u001b[K\rremote: Counting objects:  56% (2465/4401)\u001b[K\rremote: Counting objects:  57% (2509/4401)\u001b[K\rremote: Counting objects:  58% (2553/4401)\u001b[K\rremote: Counting objects:  59% (2597/4401)\u001b[K\rremote: Counting objects:  60% (2641/4401)\u001b[K\rremote: Counting objects:  61% (2685/4401)\u001b[K\rremote: Counting objects:  62% (2729/4401)\u001b[K\rremote: Counting objects:  63% (2773/4401)\u001b[K\rremote: Counting objects:  64% (2817/4401)\u001b[K\rremote: Counting objects:  65% (2861/4401)\u001b[K\rremote: Counting objects:  66% (2905/4401)\u001b[K\rremote: Counting objects:  67% (2949/4401)\u001b[K\rremote: Counting objects:  68% (2993/4401)\u001b[K\rremote: Counting objects:  69% (3037/4401)\u001b[K\rremote: Counting objects:  70% (3081/4401)\u001b[K\rremote: Counting objects:  71% (3125/4401)\u001b[K\rremote: Counting objects:  72% (3169/4401)\u001b[K\rremote: Counting objects:  73% (3213/4401)\u001b[K\rremote: Counting objects:  74% (3257/4401)\u001b[K\rremote: Counting objects:  75% (3301/4401)\u001b[K\rremote: Counting objects:  76% (3345/4401)\u001b[K\rremote: Counting objects:  77% (3389/4401)\u001b[K\rremote: Counting objects:  78% (3433/4401)\u001b[K\rremote: Counting objects:  79% (3477/4401)\u001b[K\rremote: Counting objects:  80% (3521/4401)\u001b[K\rremote: Counting objects:  81% (3565/4401)\u001b[K\rremote: Counting objects:  82% (3609/4401)\u001b[K\rremote: Counting objects:  83% (3653/4401)\u001b[K\rremote: Counting objects:  84% (3697/4401)\u001b[K\rremote: Counting objects:  85% (3741/4401)\u001b[K\rremote: Counting objects:  86% (3785/4401)\u001b[K\rremote: Counting objects:  87% (3829/4401)\u001b[K\rremote: Counting objects:  88% (3873/4401)\u001b[K\rremote: Counting objects:  89% (3917/4401)\u001b[K\rremote: Counting objects:  90% (3961/4401)\u001b[K\rremote: Counting objects:  91% (4005/4401)\u001b[K\rremote: Counting objects:  92% (4049/4401)\u001b[K\rremote: Counting objects:  93% (4093/4401)\u001b[K\rremote: Counting objects:  94% (4137/4401)\u001b[K\rremote: Counting objects:  95% (4181/4401)\u001b[K\rremote: Counting objects:  96% (4225/4401)\u001b[K\rremote: Counting objects:  97% (4269/4401)\u001b[K\rremote: Counting objects:  98% (4313/4401)\u001b[K\rremote: Counting objects:  99% (4357/4401)\u001b[K\rremote: Counting objects: 100% (4401/4401)\u001b[K\rremote: Counting objects: 100% (4401/4401), done.\u001b[K\n",
            "remote: Compressing objects: 100% (428/428), done.\u001b[K\n",
            "remote: Total 4401 (delta 3965), reused 4362 (delta 3940), pack-reused 0\u001b[K\n",
            "Receiving objects: 100% (4401/4401), 35.96 MiB | 24.71 MiB/s, done.\n",
            "Resolving deltas: 100% (3965/3965), done.\n",
            "/content/cloned-repo/Scripts\n"
          ],
          "name": "stdout"
        }
      ]
    },
    {
      "cell_type": "code",
      "metadata": {
        "id": "-e9LGWYIYc68",
        "colab_type": "code",
        "colab": {}
      },
      "source": [
        "# this is a list of additional functions to load up, as to not clutter the script\n",
        "%run ../Functions/make_training_dataset\n",
        "%run ../Functions/find_date_gaps\n",
        "%run ../Functions/baseflow_separator"
      ],
      "execution_count": 0,
      "outputs": []
    },
    {
      "cell_type": "markdown",
      "metadata": {
        "id": "wR4Cqu4SXlCG",
        "colab_type": "text"
      },
      "source": [
        "\n",
        "### load up data files\n",
        "(kind of long run time)\n",
        "\n",
        "\n"
      ]
    },
    {
      "cell_type": "code",
      "metadata": {
        "id": "49aE-zOfpeHl",
        "colab_type": "code",
        "colab": {}
      },
      "source": [
        "# import precip data\n",
        "preciprawdata = pd.read_csv(os.path.join('..', 'Raw_Data_tutuila', 'Olkeba_data', 'LBJ_Precip_mm.csv' ), index_col=0,parse_dates=True)\n",
        "\n",
        "#import flow data\n",
        "LBJflowrawdata = pd.read_csv(os.path.join('..', 'Raw_Data_tutuila', 'Olkeba_data', 'LBJ_Alex_Q_CFSs.csv'), index_col=0, parse_dates=True)\n",
        "LBJflowrawdata = LBJflowrawdata.resample('D').mean()     # subsample the 15 min data into daily values\n",
        "\n",
        "# Create merged precip and flow dataframe indexed by date\n",
        "mergeddata = pd.merge(preciprawdata, LBJflowrawdata, how='inner', left_index=True, right_index=True) \n",
        "\n",
        "# deal with the fact that the beginning and end of the datasets are missing, make them \"gaps\"\n",
        "mergeddata['Q_CFS'][0] = mergeddata['Q_CFS'].mean()\n",
        "mergeddata['Q_CFS'][-1] = mergeddata['Q_CFS'].mean()   # by setting the first and last value to the mean. Super dirty...\n",
        "\n",
        "unbroken_data = mergeddata.dropna()       # remove any rows where there is no data (a gap)"
      ],
      "execution_count": 0,
      "outputs": []
    },
    {
      "cell_type": "markdown",
      "metadata": {
        "id": "n5bqmg1ebYrp",
        "colab_type": "text"
      },
      "source": [
        "#### format trainng and validation data"
      ]
    },
    {
      "cell_type": "code",
      "metadata": {
        "id": "Czav3Z-JFIN_",
        "colab_type": "code",
        "colab": {}
      },
      "source": [
        "# Note this uses a function from the Functions folder\n",
        "\n",
        "x_cols = ['Precip_mm']           # define variable used for prediction\n",
        "y_col  = 'Q_CFS'                    # define which variable to predict\n",
        "\n",
        "X_train, y_train, X_val, y_val, train_data, val_data, y_train_scaler, y_val_scaler, X_train_scaler =  make_training_dataset(unbroken_data, x_cols, y_col, TS_value=0.90)"
      ],
      "execution_count": 0,
      "outputs": []
    },
    {
      "cell_type": "code",
      "metadata": {
        "id": "For77DMeFIYS",
        "colab_type": "code",
        "outputId": "f3322b6a-1ab6-4169-ce7f-86c208adde02",
        "colab": {
          "base_uri": "https://localhost:8080/",
          "height": 191
        }
      },
      "source": [
        "# see where there are date gaps using code from Functions folder\n",
        "where_gaps = find_date_gaps(mergeddata, 'Q_CFS')"
      ],
      "execution_count": 6,
      "outputs": [
        {
          "output_type": "stream",
          "text": [
            "gap 0 is 5 days 00:00:00 from 2012-01-02 00:00:00 to 2012-01-07 00:00:00\n",
            "gap 1 is 6 days 00:00:00 from 2012-04-04 00:00:00 to 2012-04-10 00:00:00\n",
            "gap 2 is 5 days 00:00:00 from 2012-07-10 00:00:00 to 2012-07-15 00:00:00\n",
            "gap 3 is 123 days 00:00:00 from 2012-10-11 00:00:00 to 2013-02-11 00:00:00\n",
            "gap 4 is 137 days 00:00:00 from 2013-09-26 00:00:00 to 2014-02-10 00:00:00\n",
            "gap 5 is 7 days 00:00:00 from 2014-09-24 00:00:00 to 2014-10-01 00:00:00\n",
            "gap 6 is 1 days 00:00:00 from 2014-10-09 00:00:00 to 2014-10-10 00:00:00\n",
            "gap 7 is 230 days 00:00:00 from 2015-06-20 00:00:00 to 2016-02-05 00:00:00\n",
            "gap 8 is 5 days 00:00:00 from 2016-06-24 00:00:00 to 2016-06-29 00:00:00\n",
            "gap 9 is 79 days 00:00:00 from 2016-10-13 00:00:00 to 2016-12-31 00:00:00\n"
          ],
          "name": "stdout"
        }
      ]
    },
    {
      "cell_type": "markdown",
      "metadata": {
        "id": "DohljELSkZhr",
        "colab_type": "text"
      },
      "source": [
        "### Create the DL model, define construction"
      ]
    },
    {
      "cell_type": "code",
      "metadata": {
        "id": "bC7yFoKxNZ-k",
        "colab_type": "code",
        "colab": {}
      },
      "source": [
        "# Create DLNN model as a function for streamlining code below\n",
        "def define_model_dense(hidden_layer_sizes, input_shape, activation='relu', optimizer='sgd'):\n",
        "    model = \"reset\"; del model   # redefine, then delete model to make sure previous model weights are DESTROIED!\n",
        "    model = Sequential()\n",
        "    model.add(Dense(hidden_layer_sizes[0], activation=activation, input_shape=(input_shape, )))\n",
        "    for hl_size in hidden_layer_sizes[1: ]:\n",
        "        model.add(Dense(hl_size, activation=activation))\n",
        "    model.add(Dense(1, activation='linear'))\n",
        "    model.summary()\n",
        "    model.compile(loss='mean_squared_error', optimizer=optimizer, metrics=['mean_squared_error'])\n",
        "    \n",
        "    return model"
      ],
      "execution_count": 0,
      "outputs": []
    },
    {
      "cell_type": "code",
      "metadata": {
        "id": "EqyD5vErL1J5",
        "colab_type": "code",
        "outputId": "77df96d1-dbd9-40cd-8cf4-95f6b8cad0dc",
        "colab": {
          "base_uri": "https://localhost:8080/",
          "height": 800
        }
      },
      "source": [
        "# DL hyperparameters\n",
        "hidden_layer_sizes =  [2, 4, 8, 4]\n",
        "activation     = 'relu'\n",
        "optimizer      = 'sgd'\n",
        "input_shape    = 1           # this is the number of different variables used for training datasets\n",
        "checkpoint_path = os.path.join(workspace, 'testmodel_random_callback_save2.h5')   # Used for model checkpoint callback, to save best model\n",
        "keras_callbacks   = [EarlyStopping(monitor='val_loss', patience=150, mode='min', min_delta=0.001),\n",
        "                      ModelCheckpoint(checkpoint_path, monitor='val_loss', save_best_only=True, mode='min')]\n",
        "\n",
        "# delete any existing model to make sure previous model weights are gone, then remake model again using above function!\n",
        "model = \"reset\"; del model                                                          \n",
        "model = define_model_dense(hidden_layer_sizes, input_shape, activation, optimizer)\n",
        "\n",
        "# run the model\n",
        "history = model.fit(X_train, y_train, epochs=2000,verbose=0, validation_data =(X_val,  y_val), callbacks=keras_callbacks)\n",
        "\n",
        "## load the best saved model based on validation loss\n",
        "model = load_model(checkpoint_path)\n",
        "scores = model.evaluate(X_train, y_train, verbose=1)\n",
        "print(f'Score: {model.metrics_names[0]} of {scores[0]}; {model.metrics_names[1]} of {scores[1]*100}%')"
      ],
      "execution_count": 8,
      "outputs": [
        {
          "output_type": "stream",
          "text": [
            "WARNING:tensorflow:From /usr/local/lib/python3.6/dist-packages/keras/backend/tensorflow_backend.py:66: The name tf.get_default_graph is deprecated. Please use tf.compat.v1.get_default_graph instead.\n",
            "\n",
            "WARNING:tensorflow:From /usr/local/lib/python3.6/dist-packages/keras/backend/tensorflow_backend.py:541: The name tf.placeholder is deprecated. Please use tf.compat.v1.placeholder instead.\n",
            "\n",
            "WARNING:tensorflow:From /usr/local/lib/python3.6/dist-packages/keras/backend/tensorflow_backend.py:4432: The name tf.random_uniform is deprecated. Please use tf.random.uniform instead.\n",
            "\n",
            "Model: \"sequential_1\"\n",
            "_________________________________________________________________\n",
            "Layer (type)                 Output Shape              Param #   \n",
            "=================================================================\n",
            "dense_1 (Dense)              (None, 2)                 4         \n",
            "_________________________________________________________________\n",
            "dense_2 (Dense)              (None, 4)                 12        \n",
            "_________________________________________________________________\n",
            "dense_3 (Dense)              (None, 8)                 40        \n",
            "_________________________________________________________________\n",
            "dense_4 (Dense)              (None, 4)                 36        \n",
            "_________________________________________________________________\n",
            "dense_5 (Dense)              (None, 1)                 5         \n",
            "=================================================================\n",
            "Total params: 97\n",
            "Trainable params: 97\n",
            "Non-trainable params: 0\n",
            "_________________________________________________________________\n",
            "WARNING:tensorflow:From /usr/local/lib/python3.6/dist-packages/keras/optimizers.py:793: The name tf.train.Optimizer is deprecated. Please use tf.compat.v1.train.Optimizer instead.\n",
            "\n",
            "WARNING:tensorflow:From /usr/local/lib/python3.6/dist-packages/keras/backend/tensorflow_backend.py:1033: The name tf.assign_add is deprecated. Please use tf.compat.v1.assign_add instead.\n",
            "\n",
            "WARNING:tensorflow:From /usr/local/lib/python3.6/dist-packages/keras/backend/tensorflow_backend.py:1020: The name tf.assign is deprecated. Please use tf.compat.v1.assign instead.\n",
            "\n",
            "WARNING:tensorflow:From /usr/local/lib/python3.6/dist-packages/keras/backend/tensorflow_backend.py:3005: The name tf.Session is deprecated. Please use tf.compat.v1.Session instead.\n",
            "\n",
            "WARNING:tensorflow:From /usr/local/lib/python3.6/dist-packages/keras/backend/tensorflow_backend.py:190: The name tf.get_default_session is deprecated. Please use tf.compat.v1.get_default_session instead.\n",
            "\n",
            "WARNING:tensorflow:From /usr/local/lib/python3.6/dist-packages/keras/backend/tensorflow_backend.py:197: The name tf.ConfigProto is deprecated. Please use tf.compat.v1.ConfigProto instead.\n",
            "\n",
            "WARNING:tensorflow:From /usr/local/lib/python3.6/dist-packages/keras/backend/tensorflow_backend.py:207: The name tf.global_variables is deprecated. Please use tf.compat.v1.global_variables instead.\n",
            "\n",
            "WARNING:tensorflow:From /usr/local/lib/python3.6/dist-packages/keras/backend/tensorflow_backend.py:216: The name tf.is_variable_initialized is deprecated. Please use tf.compat.v1.is_variable_initialized instead.\n",
            "\n",
            "WARNING:tensorflow:From /usr/local/lib/python3.6/dist-packages/keras/backend/tensorflow_backend.py:223: The name tf.variables_initializer is deprecated. Please use tf.compat.v1.variables_initializer instead.\n",
            "\n",
            "1106/1106 [==============================] - 0s 77us/step\n",
            "Score: loss of 0.44875543215606783; mean_squared_error of 44.87554321560678%\n"
          ],
          "name": "stdout"
        }
      ]
    },
    {
      "cell_type": "markdown",
      "metadata": {
        "id": "pca6_ocTlxqU",
        "colab_type": "text"
      },
      "source": [
        "#### Plot results\n",
        "(note that if prediction dataset is all zeros something wierd happened and need to re-run model)"
      ]
    },
    {
      "cell_type": "code",
      "metadata": {
        "id": "JS-W1AgnL1He",
        "colab_type": "code",
        "outputId": "38749547-fc42-4799-81a7-4bd5843ecfcc",
        "colab": {
          "base_uri": "https://localhost:8080/",
          "height": 557
        }
      },
      "source": [
        "fig, ax = plt.subplots(1, 3, figsize=(9, 3))\n",
        "\n",
        "######## plot 1 to 1 for # view results of predictions on the calibration data \n",
        "y_pred_calibration = model.predict(X_train)\n",
        "y_pred_calibration = y_train_scaler.inverse_transform(y_pred_calibration)    # unscale the final data baed on the scaler from the initial scaling cell abovee\n",
        "\n",
        "xcal = np.squeeze(train_data[y_col].values)\n",
        "ycal = np.squeeze(y_pred_calibration)\n",
        "slope, intercept, r_value, p_value, std_err = scipy.stats.linregress(xcal, ycal)                              # get stats on regression\n",
        "mea = np.mean(np.abs(xcal-ycal))\n",
        "rmse = np.sqrt(np.mean(np.abs(xcal-ycal)**2))                                     # couple more basic stats on the residuals, Mean absolute errir and root RMSE root mean squared error\n",
        "Std_RMSE = rmse/((np.mean(xcal)+np.mean(ycal))/2)                                 # standardize the RMSE as a % of the mean\n",
        "ax[0].plot(np.unique(xcal), np.poly1d(np.polyfit(xcal, ycal, 1))(np.unique(xcal)),  color = 'k', linestyle = \"--\")    # plot the linear regresion line \n",
        "ax[0].scatter(xcal, ycal, label=\"r2={0:1.2f}, slope={1:1.2f}\\nRMSE={2:1.2f} S_RMSE={3:1.2f}\".format(r_value, slope, rmse, Std_RMSE))   \n",
        "ax[0].set_title('Actual vs simulated data Calibration')\n",
        "ax[0].legend()\n",
        "plt.tight_layout()\n",
        "\n",
        "###### Plot losses\n",
        "ax[1].set_title('Loss vs. Epoch {}'.format(y_col))\n",
        "ax[1].plot(history.history['loss'])\n",
        "ax[1].plot(history.history['val_loss'])\n",
        "plt.tight_layout()\n",
        "\n",
        "###### plot 1 to 1 for # view results of predictions on the validation data \n",
        "y_pred_validation = model.predict(X_val)\n",
        "y_pred_validation = y_val_scaler.inverse_transform(y_pred_validation)    # unscale the final data baed on the scaler from the initial scaling cell abovee\n",
        "plt.tight_layout()\n",
        "\n",
        "xval = np.squeeze(val_data[y_col].values)\n",
        "yval = np.squeeze(y_pred_validation)\n",
        "slope, intercept, r_value, p_value, std_err = scipy.stats.linregress(xval, yval)                              # get stats on regression\n",
        "mea = np.mean(np.abs(xval-yval))\n",
        "rmse = np.sqrt(np.mean(np.abs(xval-yval)**2))                                     # couple more basic stats on the residuals, Mean absolute errir and root RMSE root mean squared error\n",
        "Std_RMSE = rmse/((np.mean(xval)+np.mean(yval))/2)                                 # standardize the RMSE as a % of the mean\n",
        "ax[2].plot(np.unique(xval), np.poly1d(np.polyfit(xval, yval, 1))(np.unique(xval)),  color = 'k', linestyle = \"--\")    # plot the linear regresion line \n",
        "ax[2].scatter(xval, yval, label=\"r2={0:1.2f}, slope={1:1.2f}\\nRMSE={2:1.2f} S_RMSE={3:1.2f}\".format(r_value, slope, rmse, Std_RMSE))   \n",
        "ax[2].set_title('Actual vs simulated data Validation')\n",
        "ax[2].legend()\n",
        "plt.tight_layout() \n",
        "\n",
        "##### time series plot\n",
        "plt.figure(figsize=(8, 3))\n",
        "plt.plot(train_data.index, ycal, label='Predicted train {}'.format(y_col))\n",
        "train_data[y_col].plot(label='Actual train {}'.format(y_col) , alpha = .5)\n",
        "plt.plot(val_data.index, yval, label='Predicted validate')\n",
        "val_data[y_col].plot(label='Actual validate', alpha = .5)\n",
        "plt.legend(loc='best')\n",
        "plt.tight_layout()"
      ],
      "execution_count": 9,
      "outputs": [
        {
          "output_type": "stream",
          "text": [
            "/usr/local/lib/python3.6/dist-packages/pandas/plotting/_matplotlib/converter.py:103: FutureWarning: Using an implicitly registered datetime converter for a matplotlib plotting method. The converter was registered by pandas on import. Future versions of pandas will require you to explicitly register matplotlib converters.\n",
            "\n",
            "To register the converters:\n",
            "\t>>> from pandas.plotting import register_matplotlib_converters\n",
            "\t>>> register_matplotlib_converters()\n",
            "  warnings.warn(msg, FutureWarning)\n"
          ],
          "name": "stderr"
        },
        {
          "output_type": "display_data",
          "data": {
            "image/png": "[encoded data removed]",
            "text/plain": [
              "<Figure size 648x216 with 3 Axes>"
            ]
          },
          "metadata": {
            "tags": []
          }
        },
        {
          "output_type": "display_data",
          "data": {
            "image/png": "[encoded data removed]",
            "text/plain": [
              "<Figure size 576x216 with 1 Axes>"
            ]
          },
          "metadata": {
            "tags": []
          }
        }
      ]
    },
    {
      "cell_type": "markdown",
      "metadata": {
        "id": "G0ok2qxDnlni",
        "colab_type": "text"
      },
      "source": [
        "## Apply the DL model to the large Precip dataset to create modeled streamflow data"
      ]
    },
    {
      "cell_type": "code",
      "metadata": {
        "id": "_0CpRsYYVSZ9",
        "colab_type": "code",
        "outputId": "60fe3b75-671d-489a-eb23-130f30087cb3",
        "colab": {
          "base_uri": "https://localhost:8080/",
          "height": 279
        }
      },
      "source": [
        "X_fill = preciprawdata['Precip_mm'].to_numpy()\n",
        "X_fill =  X_train_scaler.transform([X_fill])                           # scale existing data in other columns \n",
        "\n",
        "# now model streamflow for the whole period where we have precip data\n",
        "y_pred_fill = model.predict(np.squeeze(X_fill))\n",
        "y_pred_fill = y_train_scaler.inverse_transform(y_pred_fill)    # unscale the final data baed on the scaler from the initial scaling cell above \n",
        "\n",
        "Magicdata = preciprawdata.copy()\n",
        "Magicdata['DL_Q_cfs'] = y_pred_fill\n",
        "\n",
        "Magicdata.plot(figsize = (12,4))\n",
        "\n",
        "del Magicdata.index.name   # baseflow separator wont work without this"
      ],
      "execution_count": 10,
      "outputs": [
        {
          "output_type": "display_data",
          "data": {
            "image/png": "[encoded data removed]",
            "text/plain": [
              "<Figure size 864x288 with 1 Axes>"
            ]
          },
          "metadata": {
            "tags": []
          }
        }
      ]
    },
    {
      "cell_type": "code",
      "metadata": {
        "id": "uQ4yGgdKZqU9",
        "colab_type": "code",
        "outputId": "ef81e769-9ca8-42c4-d2e7-b872b443e5ff",
        "colab": {
          "base_uri": "https://localhost:8080/",
          "height": 139
        }
      },
      "source": [
        "# calculate streamflow stats on each tineseries\n",
        "\n",
        "MF_mean = Magicdata['DL_Q_cfs'].mean()\n",
        "MF_mean_pcterr  = abs((LBJflowrawdata.mean().values[0] - MF_mean) / LBJflowrawdata.mean().values[0])\n",
        "print(\"actual flow mean is {:.2f}, magic flow mean is {:.2f} CFS, %err = {:.2f}\".format(LBJflowrawdata.mean().values[0], MF_mean, MF_mean_pcterr))\n",
        "\n",
        "MF_med = Magicdata['DL_Q_cfs'].median()\n",
        "MF_med_pcterr  = abs((LBJflowrawdata.median().values[0] - MF_med) / LBJflowrawdata.median().values[0])\n",
        "print(\"actual flow median is {:.2f}, magic flow median is {:.2f} CFS, %err = {:.2f}\".format(LBJflowrawdata.median().values[0], MF_med, MF_med_pcterr))\n",
        "\n",
        "All_flows_real, RO_mean_real, BF_mean_real, TF_mean_real = baseflow_separator(LBJflowrawdata.index, LBJflowrawdata['Q_CFS'])\n",
        "All_flows_magic, RO_mean_magic, BF_mean_magic, TF_mean_magic = baseflow_separator(Magicdata.index, Magicdata['DL_Q_cfs'])\n",
        "\n",
        "BF_mean_pcterr = abs((BF_mean_real -  BF_mean_magic)/BF_mean_real)\n",
        "RO_mean_pcterr = abs((RO_mean_real - RO_mean_magic)/RO_mean_real)\n",
        "\n",
        "print(\"actual flow BF is {:.2f}, magic flow BF is {:.2f} CFS, %err = {:.2f}\".format(BF_mean_real, BF_mean_magic, BF_mean_pcterr))\n",
        "print(\"actual flow RO is {:.2f}, magic flow RO is {:.2f} CFS, %err = {:.2f}\".format(RO_mean_real, RO_mean_magic, RO_mean_pcterr))\n",
        "\n",
        "# Calculate exceedednce values\n",
        "Desired_Q_exceed_value = .90\n",
        "\n",
        "data = Magicdata['DL_Q_cfs'].to_numpy()\n",
        "sort = np.sort(data)[::-1]\n",
        "exceedence = np.arange(1.,len(sort)+1) / len(sort)\n",
        "excedenceframe = pd.DataFrame(data=sort, index=exceedence, columns=['flow'])\n",
        "idx = bisect_left(excedenceframe.index, Desired_Q_exceed_value)\n",
        "Magic_sceed_flow = excedenceframe[\"flow\"].iloc[idx]\n",
        "\n",
        "LBJflowrawdata = LBJflowrawdata.dropna() # need to drop nan rows first\n",
        "data = LBJflowrawdata['Q_CFS'].to_numpy()\n",
        "sort = np.sort(data)[::-1]\n",
        "exceedence = np.arange(1.,len(sort)+1) / len(sort)\n",
        "excedenceframe = pd.DataFrame(data=sort, index=exceedence, columns=['flow'])\n",
        "idx = bisect_left(excedenceframe.index, Desired_Q_exceed_value)\n",
        "real_sceed_flow = excedenceframe[\"flow\"].iloc[idx]\n",
        "\n",
        "Q_pcterr = abs((real_sceed_flow - Magic_sceed_flow)/real_sceed_flow)\n",
        "print('The Q_{} value is {:.2f} for real data and {:.2f} for magic data, %err = {:.2f}'.format(Desired_Q_exceed_value, real_sceed_flow, Magic_sceed_flow, Q_pcterr))\n",
        "print(\"........................................\")\n",
        "\n",
        "avepcterridx = np.array([MF_mean_pcterr, MF_med_pcterr, BF_mean_pcterr, RO_mean_pcterr, Q_pcterr ]).mean()\n",
        "print(\"Ave %err index = {:.4f}\".format(avepcterridx))\n",
        "\n"
      ],
      "execution_count": 11,
      "outputs": [
        {
          "output_type": "stream",
          "text": [
            "actual flow mean is 7.02, magic flow mean is 7.14 CFS, %err = 0.02\n",
            "actual flow median is 4.26, magic flow median is 4.97 CFS, %err = 0.17\n",
            "actual flow BF is 3.18, magic flow BF is 4.62 CFS, %err = 0.45\n",
            "actual flow RO is 3.72, magic flow RO is 2.52 CFS, %err = 0.32\n",
            "The Q_0.9 value is 2.52 for real data and 4.55 for magic data, %err = 0.81\n",
            "........................................\n",
            "Ave %err index = 0.3535\n"
          ],
          "name": "stdout"
        }
      ]
    },
    {
      "cell_type": "code",
      "metadata": {
        "id": "DcwunXSyuot-",
        "colab_type": "code",
        "colab": {}
      },
      "source": [
        ""
      ],
      "execution_count": 0,
      "outputs": []
    },
    {
      "cell_type": "code",
      "metadata": {
        "id": "0EEF7Sb70nJA",
        "colab_type": "code",
        "colab": {}
      },
      "source": [
        "# And now for something completely different....  Using CNN to work on the same problem "
      ],
      "execution_count": 0,
      "outputs": []
    },
    {
      "cell_type": "code",
      "metadata": {
        "id": "i9SDl-wL0nFb",
        "colab_type": "code",
        "colab": {}
      },
      "source": [
        ""
      ],
      "execution_count": 0,
      "outputs": []
    },
    {
      "cell_type": "code",
      "metadata": {
        "id": "j3Ez5JanuGqh",
        "colab_type": "code",
        "colab": {}
      },
      "source": [
        "from tensorflow.keras.models import Sequential # layer-by-layer construction\n",
        "from tensorflow.keras.layers import Dense # dense: fully connected layers\n",
        "from tensorflow.nn import relu, sigmoid, elu # activation functions\n",
        "from tensorflow.keras.layers import Conv1D, MaxPooling1D \n",
        "from tensorflow.keras.layers import Flatten, Dropout\n",
        "import tensorflow as tf\n",
        "\n",
        "\n",
        "# provide random seed for reproducible results\n",
        "np.random.seed(696007)\n",
        "tf.set_random_seed(696007)"
      ],
      "execution_count": 0,
      "outputs": []
    },
    {
      "cell_type": "code",
      "metadata": {
        "id": "AeXcyVYqKzDP",
        "colab_type": "code",
        "colab": {}
      },
      "source": [
        "# cut this up to make it a round number\n",
        "unbroken_data2 = unbroken_data.iloc[0:1200]\n",
        "\n",
        "x_cols = ['Precip_mm']           # define variable used for prediction\n",
        "y_col  = 'Q_CFS'                    # define which variable to predict\n",
        "\n",
        "X_train, y_train, X_val, y_val, train_data, val_data, y_train_scaler, y_val_scaler, X_train_scaler =  make_training_dataset(unbroken_data2, x_cols, y_col, TS_value=(1000/1200))"
      ],
      "execution_count": 0,
      "outputs": []
    },
    {
      "cell_type": "code",
      "metadata": {
        "id": "4peVE-anKzAq",
        "colab_type": "code",
        "colab": {}
      },
      "source": [
        ""
      ],
      "execution_count": 0,
      "outputs": []
    },
    {
      "cell_type": "code",
      "metadata": {
        "id": "aRobX5gg2dCd",
        "colab_type": "code",
        "colab": {}
      },
      "source": [
        "X = X_train.squeeze()\n",
        "y = y_train.squeeze()\n",
        "\n",
        "X_val_conv = X_val.squeeze()"
      ],
      "execution_count": 0,
      "outputs": []
    },
    {
      "cell_type": "code",
      "metadata": {
        "id": "CTaaICiaUeA6",
        "colab_type": "code",
        "colab": {
          "base_uri": "https://localhost:8080/",
          "height": 35
        },
        "outputId": "1e3ec18f-338a-4502-8e1b-8c89a242e926"
      },
      "source": [
        "y1 = np.array(y).reshape(1,y.shape[0])\n",
        "x1 = np.array(X).reshape(1,X.shape[0], 1)    # may need a 1  changed here\n",
        "x_val_conv1 = np.array(X_val_conv).reshape(1,X_val_conv.shape[0], 1)    # may need a 1  changed here\n",
        "np.shape(x1)"
      ],
      "execution_count": 97,
      "outputs": [
        {
          "output_type": "execute_result",
          "data": {
            "text/plain": [
              "(1, 1000, 1)"
            ]
          },
          "metadata": {
            "tags": []
          },
          "execution_count": 97
        }
      ]
    },
    {
      "cell_type": "code",
      "metadata": {
        "id": "6uhVy0N_Ud-n",
        "colab_type": "code",
        "colab": {
          "base_uri": "https://localhost:8080/",
          "height": 1000
        },
        "outputId": "07ee159a-508c-435e-e8ee-10bd80f8bb96"
      },
      "source": [
        "# Input size [batch, time, channels] = (1, 1000, 1)\n",
        "# Output size [batch, time, channels] = (1, 1000)\n",
        "\n",
        "model1 = tf.keras.Sequential()\n",
        "model1.add(Conv1D(filters = 8, kernel_size = 5, activation = 'relu', input_shape = (1000,1)))\n",
        "model1.add(Dropout(0.5))\n",
        "model1.add(MaxPooling1D(pool_size = 2))\n",
        "model1.add(Conv1D(filters =8, kernel_size = 5, activation = 'relu'))\n",
        "model1.add(Dropout(0.5))\n",
        "model1.add(MaxPooling1D(pool_size = 2))\n",
        "model1.add(Flatten())\n",
        "model1.add(Dense(96, activation = 'sigmoid'))\n",
        "model1.add(Dense(24, activation = 'elu'))\n",
        "model1.add(Dense(1000)) # <= here I changed from 1 to N= 6152\n",
        "model1.compile(loss = 'mean_squared_error', optimizer = 'adam', metrics = ['accuracy'])\n",
        "\n",
        "print(model1.summary())\n",
        "model1.fit(x1, y1, epochs = 400, batch_size = 32, verbose = 1)\n",
        "\t\n",
        "# evaluate model\n",
        "_, accuracy = model1.evaluate(x1, y1, batch_size = 12, verbose = 1)\n",
        "\n"
      ],
      "execution_count": 99,
      "outputs": [
        {
          "output_type": "stream",
          "text": [
            "Model: \"sequential_8\"\n",
            "_________________________________________________________________\n",
            "Layer (type)                 Output Shape              Param #   \n",
            "=================================================================\n",
            "conv1d_15 (Conv1D)           (None, 996, 8)            48        \n",
            "_________________________________________________________________\n",
            "dropout_14 (Dropout)         (None, 996, 8)            0         \n",
            "_________________________________________________________________\n",
            "max_pooling1d_14 (MaxPooling (None, 498, 8)            0         \n",
            "_________________________________________________________________\n",
            "conv1d_16 (Conv1D)           (None, 494, 8)            328       \n",
            "_________________________________________________________________\n",
            "dropout_15 (Dropout)         (None, 494, 8)            0         \n",
            "_________________________________________________________________\n",
            "max_pooling1d_15 (MaxPooling (None, 247, 8)            0         \n",
            "_________________________________________________________________\n",
            "flatten_7 (Flatten)          (None, 1976)              0         \n",
            "_________________________________________________________________\n",
            "dense_21 (Dense)             (None, 96)                189792    \n",
            "_________________________________________________________________\n",
            "dense_22 (Dense)             (None, 24)                2328      \n",
            "_________________________________________________________________\n",
            "dense_23 (Dense)             (None, 1000)              25000     \n",
            "=================================================================\n",
            "Total params: 217,496\n",
            "Trainable params: 217,496\n",
            "Non-trainable params: 0\n",
            "_________________________________________________________________\n",
            "None\n",
            "Train on 1 samples\n",
            "Epoch 1/400\n",
            "1/1 [==============================] - 0s 193ms/sample - loss: 1.0129 - acc: 0.0000e+00\n",
            "Epoch 2/400\n",
            "1/1 [==============================] - 0s 4ms/sample - loss: 0.9918 - acc: 0.0000e+00\n",
            "Epoch 3/400\n",
            "1/1 [==============================] - 0s 4ms/sample - loss: 0.9750 - acc: 0.0000e+00\n",
            "Epoch 4/400\n",
            "1/1 [==============================] - 0s 3ms/sample - loss: 0.9600 - acc: 0.0000e+00\n",
            "Epoch 5/400\n",
            "1/1 [==============================] - 0s 4ms/sample - loss: 0.9482 - acc: 0.0000e+00\n",
            "Epoch 6/400\n",
            "1/1 [==============================] - 0s 4ms/sample - loss: 0.9286 - acc: 0.0000e+00\n",
            "Epoch 7/400\n",
            "1/1 [==============================] - 0s 5ms/sample - loss: 0.9122 - acc: 0.0000e+00\n",
            "Epoch 8/400\n",
            "1/1 [==============================] - 0s 5ms/sample - loss: 0.8946 - acc: 0.0000e+00\n",
            "Epoch 9/400\n",
            "1/1 [==============================] - 0s 4ms/sample - loss: 0.8695 - acc: 0.0000e+00\n",
            "Epoch 10/400\n",
            "1/1 [==============================] - 0s 5ms/sample - loss: 0.8516 - acc: 0.0000e+00\n",
            "Epoch 11/400\n",
            "1/1 [==============================] - 0s 4ms/sample - loss: 0.8273 - acc: 0.0000e+00\n",
            "Epoch 12/400\n",
            "1/1 [==============================] - 0s 7ms/sample - loss: 0.8042 - acc: 0.0000e+00\n",
            "Epoch 13/400\n",
            "1/1 [==============================] - 0s 4ms/sample - loss: 0.7826 - acc: 0.0000e+00\n",
            "Epoch 14/400\n",
            "1/1 [==============================] - 0s 3ms/sample - loss: 0.7597 - acc: 0.0000e+00\n",
            "Epoch 15/400\n",
            "1/1 [==============================] - 0s 4ms/sample - loss: 0.7378 - acc: 0.0000e+00\n",
            "Epoch 16/400\n",
            "1/1 [==============================] - 0s 4ms/sample - loss: 0.7130 - acc: 0.0000e+00\n",
            "Epoch 17/400\n",
            "1/1 [==============================] - 0s 3ms/sample - loss: 0.6933 - acc: 0.0000e+00\n",
            "Epoch 18/400\n",
            "1/1 [==============================] - 0s 3ms/sample - loss: 0.6689 - acc: 0.0000e+00\n",
            "Epoch 19/400\n",
            "1/1 [==============================] - 0s 4ms/sample - loss: 0.6450 - acc: 0.0000e+00\n",
            "Epoch 20/400\n",
            "1/1 [==============================] - 0s 6ms/sample - loss: 0.6216 - acc: 0.0000e+00\n",
            "Epoch 21/400\n",
            "1/1 [==============================] - 0s 4ms/sample - loss: 0.6014 - acc: 0.0000e+00\n",
            "Epoch 22/400\n",
            "1/1 [==============================] - 0s 4ms/sample - loss: 0.5772 - acc: 0.0000e+00\n",
            "Epoch 23/400\n",
            "1/1 [==============================] - 0s 4ms/sample - loss: 0.5552 - acc: 0.0000e+00\n",
            "Epoch 24/400\n",
            "1/1 [==============================] - 0s 4ms/sample - loss: 0.5343 - acc: 0.0000e+00\n",
            "Epoch 25/400\n",
            "1/1 [==============================] - 0s 4ms/sample - loss: 0.5113 - acc: 0.0000e+00\n",
            "Epoch 26/400\n",
            "1/1 [==============================] - 0s 4ms/sample - loss: 0.4906 - acc: 0.0000e+00\n",
            "Epoch 27/400\n",
            "1/1 [==============================] - 0s 3ms/sample - loss: 0.4679 - acc: 0.0000e+00\n",
            "Epoch 28/400\n",
            "1/1 [==============================] - 0s 4ms/sample - loss: 0.4474 - acc: 0.0000e+00\n",
            "Epoch 29/400\n",
            "1/1 [==============================] - 0s 5ms/sample - loss: 0.4276 - acc: 0.0000e+00\n",
            "Epoch 30/400\n",
            "1/1 [==============================] - 0s 4ms/sample - loss: 0.4081 - acc: 0.0000e+00\n",
            "Epoch 31/400\n",
            "1/1 [==============================] - 0s 8ms/sample - loss: 0.3888 - acc: 0.0000e+00\n",
            "Epoch 32/400\n",
            "1/1 [==============================] - 0s 6ms/sample - loss: 0.3703 - acc: 0.0000e+00\n",
            "Epoch 33/400\n",
            "1/1 [==============================] - 0s 5ms/sample - loss: 0.3523 - acc: 0.0000e+00\n",
            "Epoch 34/400\n",
            "1/1 [==============================] - 0s 7ms/sample - loss: 0.3354 - acc: 0.0000e+00\n",
            "Epoch 35/400\n",
            "1/1 [==============================] - 0s 6ms/sample - loss: 0.3189 - acc: 0.0000e+00\n",
            "Epoch 36/400\n",
            "1/1 [==============================] - 0s 7ms/sample - loss: 0.3029 - acc: 0.0000e+00\n",
            "Epoch 37/400\n",
            "1/1 [==============================] - 0s 7ms/sample - loss: 0.2880 - acc: 0.0000e+00\n",
            "Epoch 38/400\n",
            "1/1 [==============================] - 0s 5ms/sample - loss: 0.2733 - acc: 0.0000e+00\n",
            "Epoch 39/400\n",
            "1/1 [==============================] - 0s 5ms/sample - loss: 0.2595 - acc: 0.0000e+00\n",
            "Epoch 40/400\n",
            "1/1 [==============================] - 0s 4ms/sample - loss: 0.2462 - acc: 0.0000e+00\n",
            "Epoch 41/400\n",
            "1/1 [==============================] - 0s 7ms/sample - loss: 0.2331 - acc: 0.0000e+00\n",
            "Epoch 42/400\n",
            "1/1 [==============================] - 0s 5ms/sample - loss: 0.2210 - acc: 0.0000e+00\n",
            "Epoch 43/400\n",
            "1/1 [==============================] - 0s 4ms/sample - loss: 0.2092 - acc: 0.0000e+00\n",
            "Epoch 44/400\n",
            "1/1 [==============================] - 0s 5ms/sample - loss: 0.1981 - acc: 0.0000e+00\n",
            "Epoch 45/400\n",
            "1/1 [==============================] - 0s 8ms/sample - loss: 0.1876 - acc: 0.0000e+00\n",
            "Epoch 46/400\n",
            "1/1 [==============================] - 0s 5ms/sample - loss: 0.1782 - acc: 0.0000e+00\n",
            "Epoch 47/400\n",
            "1/1 [==============================] - 0s 6ms/sample - loss: 0.1689 - acc: 0.0000e+00\n",
            "Epoch 48/400\n",
            "1/1 [==============================] - 0s 5ms/sample - loss: 0.1602 - acc: 0.0000e+00\n",
            "Epoch 49/400\n",
            "1/1 [==============================] - 0s 6ms/sample - loss: 0.1520 - acc: 0.0000e+00\n",
            "Epoch 50/400\n",
            "1/1 [==============================] - 0s 4ms/sample - loss: 0.1442 - acc: 0.0000e+00\n",
            "Epoch 51/400\n",
            "1/1 [==============================] - 0s 5ms/sample - loss: 0.1370 - acc: 0.0000e+00\n",
            "Epoch 52/400\n",
            "1/1 [==============================] - 0s 6ms/sample - loss: 0.1301 - acc: 0.0000e+00\n",
            "Epoch 53/400\n",
            "1/1 [==============================] - 0s 6ms/sample - loss: 0.1236 - acc: 0.0000e+00\n",
            "Epoch 54/400\n",
            "1/1 [==============================] - 0s 4ms/sample - loss: 0.1173 - acc: 0.0000e+00\n",
            "Epoch 55/400\n",
            "1/1 [==============================] - 0s 5ms/sample - loss: 0.1115 - acc: 1.0000\n",
            "Epoch 56/400\n",
            "1/1 [==============================] - 0s 4ms/sample - loss: 0.1060 - acc: 1.0000\n",
            "Epoch 57/400\n",
            "1/1 [==============================] - 0s 6ms/sample - loss: 0.1006 - acc: 1.0000\n",
            "Epoch 58/400\n",
            "1/1 [==============================] - 0s 7ms/sample - loss: 0.0956 - acc: 1.0000\n",
            "Epoch 59/400\n",
            "1/1 [==============================] - 0s 5ms/sample - loss: 0.0908 - acc: 1.0000\n",
            "Epoch 60/400\n",
            "1/1 [==============================] - 0s 6ms/sample - loss: 0.0863 - acc: 1.0000\n",
            "Epoch 61/400\n",
            "1/1 [==============================] - 0s 4ms/sample - loss: 0.0819 - acc: 1.0000\n",
            "Epoch 62/400\n",
            "1/1 [==============================] - 0s 6ms/sample - loss: 0.0778 - acc: 1.0000\n",
            "Epoch 63/400\n",
            "1/1 [==============================] - 0s 6ms/sample - loss: 0.0739 - acc: 1.0000\n",
            "Epoch 64/400\n",
            "1/1 [==============================] - 0s 5ms/sample - loss: 0.0701 - acc: 1.0000\n",
            "Epoch 65/400\n",
            "1/1 [==============================] - 0s 4ms/sample - loss: 0.0666 - acc: 1.0000\n",
            "Epoch 66/400\n",
            "1/1 [==============================] - 0s 4ms/sample - loss: 0.0633 - acc: 1.0000\n",
            "Epoch 67/400\n",
            "1/1 [==============================] - 0s 5ms/sample - loss: 0.0602 - acc: 1.0000\n",
            "Epoch 68/400\n",
            "1/1 [==============================] - 0s 4ms/sample - loss: 0.0572 - acc: 1.0000\n",
            "Epoch 69/400\n",
            "1/1 [==============================] - 0s 4ms/sample - loss: 0.0543 - acc: 1.0000\n",
            "Epoch 70/400\n",
            "1/1 [==============================] - 0s 6ms/sample - loss: 0.0516 - acc: 1.0000\n",
            "Epoch 71/400\n",
            "1/1 [==============================] - 0s 6ms/sample - loss: 0.0491 - acc: 1.0000\n",
            "Epoch 72/400\n",
            "1/1 [==============================] - 0s 6ms/sample - loss: 0.0466 - acc: 1.0000\n",
            "Epoch 73/400\n",
            "1/1 [==============================] - 0s 9ms/sample - loss: 0.0443 - acc: 1.0000\n",
            "Epoch 74/400\n",
            "1/1 [==============================] - 0s 5ms/sample - loss: 0.0421 - acc: 1.0000\n",
            "Epoch 75/400\n",
            "1/1 [==============================] - 0s 8ms/sample - loss: 0.0399 - acc: 1.0000\n",
            "Epoch 76/400\n",
            "1/1 [==============================] - 0s 9ms/sample - loss: 0.0379 - acc: 1.0000\n",
            "Epoch 77/400\n",
            "1/1 [==============================] - 0s 7ms/sample - loss: 0.0360 - acc: 1.0000\n",
            "Epoch 78/400\n",
            "1/1 [==============================] - 0s 8ms/sample - loss: 0.0341 - acc: 1.0000\n",
            "Epoch 79/400\n",
            "1/1 [==============================] - 0s 7ms/sample - loss: 0.0323 - acc: 1.0000\n",
            "Epoch 80/400\n",
            "1/1 [==============================] - 0s 8ms/sample - loss: 0.0305 - acc: 1.0000\n",
            "Epoch 81/400\n",
            "1/1 [==============================] - 0s 5ms/sample - loss: 0.0291 - acc: 1.0000\n",
            "Epoch 82/400\n",
            "1/1 [==============================] - 0s 6ms/sample - loss: 0.0274 - acc: 1.0000\n",
            "Epoch 83/400\n",
            "1/1 [==============================] - 0s 6ms/sample - loss: 0.0260 - acc: 1.0000\n",
            "Epoch 84/400\n",
            "1/1 [==============================] - 0s 7ms/sample - loss: 0.0244 - acc: 1.0000\n",
            "Epoch 85/400\n",
            "1/1 [==============================] - 0s 6ms/sample - loss: 0.0231 - acc: 1.0000\n",
            "Epoch 86/400\n",
            "1/1 [==============================] - 0s 8ms/sample - loss: 0.0218 - acc: 1.0000\n",
            "Epoch 87/400\n",
            "1/1 [==============================] - 0s 5ms/sample - loss: 0.0205 - acc: 1.0000\n",
            "Epoch 88/400\n",
            "1/1 [==============================] - 0s 7ms/sample - loss: 0.0193 - acc: 1.0000\n",
            "Epoch 89/400\n",
            "1/1 [==============================] - 0s 4ms/sample - loss: 0.0181 - acc: 1.0000\n",
            "Epoch 90/400\n",
            "1/1 [==============================] - 0s 6ms/sample - loss: 0.0171 - acc: 1.0000\n",
            "Epoch 91/400\n",
            "1/1 [==============================] - 0s 5ms/sample - loss: 0.0162 - acc: 1.0000\n",
            "Epoch 92/400\n",
            "1/1 [==============================] - 0s 5ms/sample - loss: 0.0151 - acc: 1.0000\n",
            "Epoch 93/400\n",
            "1/1 [==============================] - 0s 4ms/sample - loss: 0.0143 - acc: 1.0000\n",
            "Epoch 94/400\n",
            "1/1 [==============================] - 0s 5ms/sample - loss: 0.0134 - acc: 1.0000\n",
            "Epoch 95/400\n",
            "1/1 [==============================] - 0s 6ms/sample - loss: 0.0126 - acc: 1.0000\n",
            "Epoch 96/400\n",
            "1/1 [==============================] - 0s 4ms/sample - loss: 0.0118 - acc: 1.0000\n",
            "Epoch 97/400\n",
            "1/1 [==============================] - 0s 4ms/sample - loss: 0.0111 - acc: 1.0000\n",
            "Epoch 98/400\n",
            "1/1 [==============================] - 0s 6ms/sample - loss: 0.0104 - acc: 1.0000\n",
            "Epoch 99/400\n",
            "1/1 [==============================] - 0s 6ms/sample - loss: 0.0097 - acc: 1.0000\n",
            "Epoch 100/400\n",
            "1/1 [==============================] - 0s 6ms/sample - loss: 0.0093 - acc: 1.0000\n",
            "Epoch 101/400\n",
            "1/1 [==============================] - 0s 5ms/sample - loss: 0.0085 - acc: 1.0000\n",
            "Epoch 102/400\n",
            "1/1 [==============================] - 0s 6ms/sample - loss: 0.0080 - acc: 1.0000\n",
            "Epoch 103/400\n",
            "1/1 [==============================] - 0s 6ms/sample - loss: 0.0075 - acc: 1.0000\n",
            "Epoch 104/400\n",
            "1/1 [==============================] - 0s 7ms/sample - loss: 0.0070 - acc: 1.0000\n",
            "Epoch 105/400\n",
            "1/1 [==============================] - 0s 6ms/sample - loss: 0.0066 - acc: 1.0000\n",
            "Epoch 106/400\n",
            "1/1 [==============================] - 0s 5ms/sample - loss: 0.0061 - acc: 1.0000\n",
            "Epoch 107/400\n",
            "1/1 [==============================] - 0s 7ms/sample - loss: 0.0057 - acc: 1.0000\n",
            "Epoch 108/400\n",
            "1/1 [==============================] - 0s 5ms/sample - loss: 0.0053 - acc: 1.0000\n",
            "Epoch 109/400\n",
            "1/1 [==============================] - 0s 5ms/sample - loss: 0.0049 - acc: 1.0000\n",
            "Epoch 110/400\n",
            "1/1 [==============================] - 0s 7ms/sample - loss: 0.0046 - acc: 1.0000\n",
            "Epoch 111/400\n",
            "1/1 [==============================] - 0s 5ms/sample - loss: 0.0043 - acc: 1.0000\n",
            "Epoch 112/400\n",
            "1/1 [==============================] - 0s 6ms/sample - loss: 0.0040 - acc: 1.0000\n",
            "Epoch 113/400\n",
            "1/1 [==============================] - 0s 7ms/sample - loss: 0.0037 - acc: 1.0000\n",
            "Epoch 114/400\n",
            "1/1 [==============================] - 0s 6ms/sample - loss: 0.0035 - acc: 1.0000\n",
            "Epoch 115/400\n",
            "1/1 [==============================] - 0s 4ms/sample - loss: 0.0032 - acc: 1.0000\n",
            "Epoch 116/400\n",
            "1/1 [==============================] - 0s 5ms/sample - loss: 0.0030 - acc: 1.0000\n",
            "Epoch 117/400\n",
            "1/1 [==============================] - 0s 6ms/sample - loss: 0.0027 - acc: 1.0000\n",
            "Epoch 118/400\n",
            "1/1 [==============================] - 0s 4ms/sample - loss: 0.0025 - acc: 1.0000\n",
            "Epoch 119/400\n",
            "1/1 [==============================] - 0s 9ms/sample - loss: 0.0023 - acc: 1.0000\n",
            "Epoch 120/400\n",
            "1/1 [==============================] - 0s 10ms/sample - loss: 0.0021 - acc: 1.0000\n",
            "Epoch 121/400\n",
            "1/1 [==============================] - 0s 5ms/sample - loss: 0.0019 - acc: 1.0000\n",
            "Epoch 122/400\n",
            "1/1 [==============================] - 0s 7ms/sample - loss: 0.0018 - acc: 1.0000\n",
            "Epoch 123/400\n",
            "1/1 [==============================] - 0s 4ms/sample - loss: 0.0016 - acc: 1.0000\n",
            "Epoch 124/400\n",
            "1/1 [==============================] - 0s 6ms/sample - loss: 0.0015 - acc: 1.0000\n",
            "Epoch 125/400\n",
            "1/1 [==============================] - 0s 4ms/sample - loss: 0.0014 - acc: 1.0000\n",
            "Epoch 126/400\n",
            "1/1 [==============================] - 0s 6ms/sample - loss: 0.0012 - acc: 1.0000\n",
            "Epoch 127/400\n",
            "1/1 [==============================] - 0s 5ms/sample - loss: 0.0011 - acc: 1.0000\n",
            "Epoch 128/400\n",
            "1/1 [==============================] - 0s 4ms/sample - loss: 0.0010 - acc: 1.0000\n",
            "Epoch 129/400\n",
            "1/1 [==============================] - 0s 6ms/sample - loss: 9.2898e-04 - acc: 1.0000\n",
            "Epoch 130/400\n",
            "1/1 [==============================] - 0s 4ms/sample - loss: 8.4063e-04 - acc: 1.0000\n",
            "Epoch 131/400\n",
            "1/1 [==============================] - 0s 4ms/sample - loss: 7.5886e-04 - acc: 1.0000\n",
            "Epoch 132/400\n",
            "1/1 [==============================] - 0s 6ms/sample - loss: 6.8401e-04 - acc: 1.0000\n",
            "Epoch 133/400\n",
            "1/1 [==============================] - 0s 5ms/sample - loss: 6.1487e-04 - acc: 1.0000\n",
            "Epoch 134/400\n",
            "1/1 [==============================] - 0s 6ms/sample - loss: 5.5161e-04 - acc: 1.0000\n",
            "Epoch 135/400\n",
            "1/1 [==============================] - 0s 6ms/sample - loss: 4.9321e-04 - acc: 1.0000\n",
            "Epoch 136/400\n",
            "1/1 [==============================] - 0s 5ms/sample - loss: 4.4085e-04 - acc: 1.0000\n",
            "Epoch 137/400\n",
            "1/1 [==============================] - 0s 3ms/sample - loss: 3.9319e-04 - acc: 1.0000\n",
            "Epoch 138/400\n",
            "1/1 [==============================] - 0s 6ms/sample - loss: 3.4968e-04 - acc: 1.0000\n",
            "Epoch 139/400\n",
            "1/1 [==============================] - 0s 6ms/sample - loss: 3.1085e-04 - acc: 1.0000\n",
            "Epoch 140/400\n",
            "1/1 [==============================] - 0s 5ms/sample - loss: 2.7366e-04 - acc: 1.0000\n",
            "Epoch 141/400\n",
            "1/1 [==============================] - 0s 5ms/sample - loss: 2.4082e-04 - acc: 1.0000\n",
            "Epoch 142/400\n",
            "1/1 [==============================] - 0s 3ms/sample - loss: 2.1203e-04 - acc: 1.0000\n",
            "Epoch 143/400\n",
            "1/1 [==============================] - 0s 7ms/sample - loss: 1.8527e-04 - acc: 1.0000\n",
            "Epoch 144/400\n",
            "1/1 [==============================] - 0s 4ms/sample - loss: 1.6152e-04 - acc: 1.0000\n",
            "Epoch 145/400\n",
            "1/1 [==============================] - 0s 5ms/sample - loss: 1.4045e-04 - acc: 1.0000\n",
            "Epoch 146/400\n",
            "1/1 [==============================] - 0s 5ms/sample - loss: 1.2169e-04 - acc: 1.0000\n",
            "Epoch 147/400\n",
            "1/1 [==============================] - 0s 6ms/sample - loss: 1.0507e-04 - acc: 1.0000\n",
            "Epoch 148/400\n",
            "1/1 [==============================] - 0s 3ms/sample - loss: 9.0774e-05 - acc: 1.0000\n",
            "Epoch 149/400\n",
            "1/1 [==============================] - 0s 7ms/sample - loss: 7.8032e-05 - acc: 1.0000\n",
            "Epoch 150/400\n",
            "1/1 [==============================] - 0s 8ms/sample - loss: 6.6425e-05 - acc: 1.0000\n",
            "Epoch 151/400\n",
            "1/1 [==============================] - 0s 7ms/sample - loss: 5.6584e-05 - acc: 1.0000\n",
            "Epoch 152/400\n",
            "1/1 [==============================] - 0s 6ms/sample - loss: 4.7961e-05 - acc: 1.0000\n",
            "Epoch 153/400\n",
            "1/1 [==============================] - 0s 4ms/sample - loss: 4.0646e-05 - acc: 1.0000\n",
            "Epoch 154/400\n",
            "1/1 [==============================] - 0s 7ms/sample - loss: 3.4229e-05 - acc: 1.0000\n",
            "Epoch 155/400\n",
            "1/1 [==============================] - 0s 7ms/sample - loss: 2.8273e-05 - acc: 1.0000\n",
            "Epoch 156/400\n",
            "1/1 [==============================] - 0s 6ms/sample - loss: 2.3438e-05 - acc: 1.0000\n",
            "Epoch 157/400\n",
            "1/1 [==============================] - 0s 6ms/sample - loss: 1.9332e-05 - acc: 1.0000\n",
            "Epoch 158/400\n",
            "1/1 [==============================] - 0s 6ms/sample - loss: 1.5836e-05 - acc: 1.0000\n",
            "Epoch 159/400\n",
            "1/1 [==============================] - 0s 9ms/sample - loss: 1.2812e-05 - acc: 1.0000\n",
            "Epoch 160/400\n",
            "1/1 [==============================] - 0s 5ms/sample - loss: 1.0275e-05 - acc: 1.0000\n",
            "Epoch 161/400\n",
            "1/1 [==============================] - 0s 5ms/sample - loss: 8.6241e-06 - acc: 1.0000\n",
            "Epoch 162/400\n",
            "1/1 [==============================] - 0s 7ms/sample - loss: 6.5746e-06 - acc: 1.0000\n",
            "Epoch 163/400\n",
            "1/1 [==============================] - 0s 5ms/sample - loss: 5.1876e-06 - acc: 1.0000\n",
            "Epoch 164/400\n",
            "1/1 [==============================] - 0s 8ms/sample - loss: 4.0325e-06 - acc: 1.0000\n",
            "Epoch 165/400\n",
            "1/1 [==============================] - 0s 8ms/sample - loss: 3.0435e-06 - acc: 1.0000\n",
            "Epoch 166/400\n",
            "1/1 [==============================] - 0s 4ms/sample - loss: 2.2874e-06 - acc: 1.0000\n",
            "Epoch 167/400\n",
            "1/1 [==============================] - 0s 3ms/sample - loss: 1.7447e-06 - acc: 1.0000\n",
            "Epoch 168/400\n",
            "1/1 [==============================] - 0s 6ms/sample - loss: 1.4571e-06 - acc: 1.0000\n",
            "Epoch 169/400\n",
            "1/1 [==============================] - 0s 4ms/sample - loss: 9.7577e-07 - acc: 1.0000\n",
            "Epoch 170/400\n",
            "1/1 [==============================] - 0s 3ms/sample - loss: 7.5067e-07 - acc: 1.0000\n",
            "Epoch 171/400\n",
            "1/1 [==============================] - 0s 5ms/sample - loss: 5.9981e-07 - acc: 1.0000\n",
            "Epoch 172/400\n",
            "1/1 [==============================] - 0s 5ms/sample - loss: 5.0569e-07 - acc: 1.0000\n",
            "Epoch 173/400\n",
            "1/1 [==============================] - 0s 4ms/sample - loss: 4.9436e-07 - acc: 1.0000\n",
            "Epoch 174/400\n",
            "1/1 [==============================] - 0s 5ms/sample - loss: 5.0306e-07 - acc: 1.0000\n",
            "Epoch 175/400\n",
            "1/1 [==============================] - 0s 5ms/sample - loss: 5.0676e-07 - acc: 1.0000\n",
            "Epoch 176/400\n",
            "1/1 [==============================] - 0s 6ms/sample - loss: 5.2164e-07 - acc: 1.0000\n",
            "Epoch 177/400\n",
            "1/1 [==============================] - 0s 5ms/sample - loss: 5.9818e-07 - acc: 1.0000\n",
            "Epoch 178/400\n",
            "1/1 [==============================] - 0s 5ms/sample - loss: 7.1725e-07 - acc: 1.0000\n",
            "Epoch 179/400\n",
            "1/1 [==============================] - 0s 6ms/sample - loss: 7.2341e-07 - acc: 1.0000\n",
            "Epoch 180/400\n",
            "1/1 [==============================] - 0s 6ms/sample - loss: 8.3435e-07 - acc: 1.0000\n",
            "Epoch 181/400\n",
            "1/1 [==============================] - 0s 5ms/sample - loss: 8.1370e-07 - acc: 1.0000\n",
            "Epoch 182/400\n",
            "1/1 [==============================] - 0s 4ms/sample - loss: 8.7680e-07 - acc: 1.0000\n",
            "Epoch 183/400\n",
            "1/1 [==============================] - 0s 6ms/sample - loss: 9.0858e-07 - acc: 1.0000\n",
            "Epoch 184/400\n",
            "1/1 [==============================] - 0s 4ms/sample - loss: 9.0295e-07 - acc: 1.0000\n",
            "Epoch 185/400\n",
            "1/1 [==============================] - 0s 5ms/sample - loss: 9.2095e-07 - acc: 1.0000\n",
            "Epoch 186/400\n",
            "1/1 [==============================] - 0s 5ms/sample - loss: 9.2920e-07 - acc: 1.0000\n",
            "Epoch 187/400\n",
            "1/1 [==============================] - 0s 5ms/sample - loss: 9.5917e-07 - acc: 1.0000\n",
            "Epoch 188/400\n",
            "1/1 [==============================] - 0s 5ms/sample - loss: 9.5238e-07 - acc: 1.0000\n",
            "Epoch 189/400\n",
            "1/1 [==============================] - 0s 4ms/sample - loss: 9.7280e-07 - acc: 1.0000\n",
            "Epoch 190/400\n",
            "1/1 [==============================] - 0s 6ms/sample - loss: 9.1328e-07 - acc: 1.0000\n",
            "Epoch 191/400\n",
            "1/1 [==============================] - 0s 4ms/sample - loss: 8.7983e-07 - acc: 1.0000\n",
            "Epoch 192/400\n",
            "1/1 [==============================] - 0s 4ms/sample - loss: 8.5299e-07 - acc: 1.0000\n",
            "Epoch 193/400\n",
            "1/1 [==============================] - 0s 5ms/sample - loss: 8.6331e-07 - acc: 1.0000\n",
            "Epoch 194/400\n",
            "1/1 [==============================] - 0s 4ms/sample - loss: 8.0332e-07 - acc: 1.0000\n",
            "Epoch 195/400\n",
            "1/1 [==============================] - 0s 4ms/sample - loss: 7.6171e-07 - acc: 1.0000\n",
            "Epoch 196/400\n",
            "1/1 [==============================] - 0s 5ms/sample - loss: 1.0672e-06 - acc: 1.0000\n",
            "Epoch 197/400\n",
            "1/1 [==============================] - 0s 4ms/sample - loss: 7.6637e-07 - acc: 1.0000\n",
            "Epoch 198/400\n",
            "1/1 [==============================] - 0s 4ms/sample - loss: 8.8324e-07 - acc: 1.0000\n",
            "Epoch 199/400\n",
            "1/1 [==============================] - 0s 6ms/sample - loss: 7.0309e-07 - acc: 1.0000\n",
            "Epoch 200/400\n",
            "1/1 [==============================] - 0s 5ms/sample - loss: 6.1035e-07 - acc: 1.0000\n",
            "Epoch 201/400\n",
            "1/1 [==============================] - 0s 4ms/sample - loss: 5.7365e-07 - acc: 1.0000\n",
            "Epoch 202/400\n",
            "1/1 [==============================] - 0s 4ms/sample - loss: 5.4155e-07 - acc: 1.0000\n",
            "Epoch 203/400\n",
            "1/1 [==============================] - 0s 5ms/sample - loss: 4.9024e-07 - acc: 1.0000\n",
            "Epoch 204/400\n",
            "1/1 [==============================] - 0s 5ms/sample - loss: 4.3824e-07 - acc: 1.0000\n",
            "Epoch 205/400\n",
            "1/1 [==============================] - 0s 3ms/sample - loss: 4.0112e-07 - acc: 1.0000\n",
            "Epoch 206/400\n",
            "1/1 [==============================] - 0s 5ms/sample - loss: 3.7588e-07 - acc: 1.0000\n",
            "Epoch 207/400\n",
            "1/1 [==============================] - 0s 3ms/sample - loss: 3.4215e-07 - acc: 1.0000\n",
            "Epoch 208/400\n",
            "1/1 [==============================] - 0s 4ms/sample - loss: 3.2155e-07 - acc: 1.0000\n",
            "Epoch 209/400\n",
            "1/1 [==============================] - 0s 4ms/sample - loss: 2.9525e-07 - acc: 1.0000\n",
            "Epoch 210/400\n",
            "1/1 [==============================] - 0s 4ms/sample - loss: 2.6049e-07 - acc: 1.0000\n",
            "Epoch 211/400\n",
            "1/1 [==============================] - 0s 4ms/sample - loss: 2.1576e-07 - acc: 1.0000\n",
            "Epoch 212/400\n",
            "1/1 [==============================] - 0s 4ms/sample - loss: 2.0351e-07 - acc: 1.0000\n",
            "Epoch 213/400\n",
            "1/1 [==============================] - 0s 6ms/sample - loss: 1.8897e-07 - acc: 1.0000\n",
            "Epoch 214/400\n",
            "1/1 [==============================] - 0s 4ms/sample - loss: 2.4574e-07 - acc: 1.0000\n",
            "Epoch 215/400\n",
            "1/1 [==============================] - 0s 5ms/sample - loss: 1.9865e-07 - acc: 1.0000\n",
            "Epoch 216/400\n",
            "1/1 [==============================] - 0s 4ms/sample - loss: 1.8825e-07 - acc: 1.0000\n",
            "Epoch 217/400\n",
            "1/1 [==============================] - 0s 5ms/sample - loss: 6.1510e-07 - acc: 1.0000\n",
            "Epoch 218/400\n",
            "1/1 [==============================] - 0s 4ms/sample - loss: 1.6967e-07 - acc: 1.0000\n",
            "Epoch 219/400\n",
            "1/1 [==============================] - 0s 4ms/sample - loss: 4.0693e-07 - acc: 1.0000\n",
            "Epoch 220/400\n",
            "1/1 [==============================] - 0s 4ms/sample - loss: 2.1493e-07 - acc: 1.0000\n",
            "Epoch 221/400\n",
            "1/1 [==============================] - 0s 4ms/sample - loss: 2.8778e-07 - acc: 1.0000\n",
            "Epoch 222/400\n",
            "1/1 [==============================] - 0s 4ms/sample - loss: 2.9822e-07 - acc: 1.0000\n",
            "Epoch 223/400\n",
            "1/1 [==============================] - 0s 4ms/sample - loss: 3.3918e-07 - acc: 1.0000\n",
            "Epoch 224/400\n",
            "1/1 [==============================] - 0s 4ms/sample - loss: 4.2047e-07 - acc: 1.0000\n",
            "Epoch 225/400\n",
            "1/1 [==============================] - 0s 3ms/sample - loss: 2.5405e-07 - acc: 1.0000\n",
            "Epoch 226/400\n",
            "1/1 [==============================] - 0s 4ms/sample - loss: 3.5590e-07 - acc: 1.0000\n",
            "Epoch 227/400\n",
            "1/1 [==============================] - 0s 4ms/sample - loss: 2.7326e-07 - acc: 1.0000\n",
            "Epoch 228/400\n",
            "1/1 [==============================] - 0s 5ms/sample - loss: 6.1574e-07 - acc: 1.0000\n",
            "Epoch 229/400\n",
            "1/1 [==============================] - 0s 4ms/sample - loss: 3.3669e-07 - acc: 1.0000\n",
            "Epoch 230/400\n",
            "1/1 [==============================] - 0s 3ms/sample - loss: 2.6742e-07 - acc: 1.0000\n",
            "Epoch 231/400\n",
            "1/1 [==============================] - 0s 6ms/sample - loss: 2.2541e-07 - acc: 1.0000\n",
            "Epoch 232/400\n",
            "1/1 [==============================] - 0s 4ms/sample - loss: 1.9395e-07 - acc: 1.0000\n",
            "Epoch 233/400\n",
            "1/1 [==============================] - 0s 9ms/sample - loss: 2.0084e-07 - acc: 1.0000\n",
            "Epoch 234/400\n",
            "1/1 [==============================] - 0s 6ms/sample - loss: 2.1674e-07 - acc: 1.0000\n",
            "Epoch 235/400\n",
            "1/1 [==============================] - 0s 5ms/sample - loss: 3.3461e-07 - acc: 1.0000\n",
            "Epoch 236/400\n",
            "1/1 [==============================] - 0s 4ms/sample - loss: 3.1462e-07 - acc: 1.0000\n",
            "Epoch 237/400\n",
            "1/1 [==============================] - 0s 5ms/sample - loss: 5.2629e-07 - acc: 1.0000\n",
            "Epoch 238/400\n",
            "1/1 [==============================] - 0s 4ms/sample - loss: 4.7486e-07 - acc: 1.0000\n",
            "Epoch 239/400\n",
            "1/1 [==============================] - 0s 6ms/sample - loss: 2.9380e-07 - acc: 1.0000\n",
            "Epoch 240/400\n",
            "1/1 [==============================] - 0s 8ms/sample - loss: 2.7422e-07 - acc: 1.0000\n",
            "Epoch 241/400\n",
            "1/1 [==============================] - 0s 7ms/sample - loss: 2.4965e-07 - acc: 1.0000\n",
            "Epoch 242/400\n",
            "1/1 [==============================] - 0s 4ms/sample - loss: 2.4935e-07 - acc: 1.0000\n",
            "Epoch 243/400\n",
            "1/1 [==============================] - 0s 6ms/sample - loss: 3.2158e-07 - acc: 1.0000\n",
            "Epoch 244/400\n",
            "1/1 [==============================] - 0s 5ms/sample - loss: 2.4080e-07 - acc: 1.0000\n",
            "Epoch 245/400\n",
            "1/1 [==============================] - 0s 8ms/sample - loss: 1.8744e-07 - acc: 1.0000\n",
            "Epoch 246/400\n",
            "1/1 [==============================] - 0s 7ms/sample - loss: 1.8374e-07 - acc: 1.0000\n",
            "Epoch 247/400\n",
            "1/1 [==============================] - 0s 5ms/sample - loss: 1.7680e-07 - acc: 1.0000\n",
            "Epoch 248/400\n",
            "1/1 [==============================] - 0s 6ms/sample - loss: 1.3634e-07 - acc: 1.0000\n",
            "Epoch 249/400\n",
            "1/1 [==============================] - 0s 7ms/sample - loss: 1.3648e-07 - acc: 1.0000\n",
            "Epoch 250/400\n",
            "1/1 [==============================] - 0s 6ms/sample - loss: 1.3675e-07 - acc: 1.0000\n",
            "Epoch 251/400\n",
            "1/1 [==============================] - 0s 7ms/sample - loss: 1.1910e-06 - acc: 1.0000\n",
            "Epoch 252/400\n",
            "1/1 [==============================] - 0s 7ms/sample - loss: 4.1817e-07 - acc: 1.0000\n",
            "Epoch 253/400\n",
            "1/1 [==============================] - 0s 8ms/sample - loss: 3.2554e-07 - acc: 1.0000\n",
            "Epoch 254/400\n",
            "1/1 [==============================] - 0s 6ms/sample - loss: 2.2157e-07 - acc: 1.0000\n",
            "Epoch 255/400\n",
            "1/1 [==============================] - 0s 5ms/sample - loss: 3.0299e-07 - acc: 1.0000\n",
            "Epoch 256/400\n",
            "1/1 [==============================] - 0s 4ms/sample - loss: 2.7387e-07 - acc: 1.0000\n",
            "Epoch 257/400\n",
            "1/1 [==============================] - 0s 9ms/sample - loss: 2.2301e-07 - acc: 1.0000\n",
            "Epoch 258/400\n",
            "1/1 [==============================] - 0s 4ms/sample - loss: 2.4854e-07 - acc: 1.0000\n",
            "Epoch 259/400\n",
            "1/1 [==============================] - 0s 7ms/sample - loss: 2.0517e-07 - acc: 1.0000\n",
            "Epoch 260/400\n",
            "1/1 [==============================] - 0s 6ms/sample - loss: 1.7308e-07 - acc: 1.0000\n",
            "Epoch 261/400\n",
            "1/1 [==============================] - 0s 5ms/sample - loss: 1.5319e-07 - acc: 1.0000\n",
            "Epoch 262/400\n",
            "1/1 [==============================] - 0s 5ms/sample - loss: 3.8253e-07 - acc: 1.0000\n",
            "Epoch 263/400\n",
            "1/1 [==============================] - 0s 7ms/sample - loss: 3.8173e-07 - acc: 1.0000\n",
            "Epoch 264/400\n",
            "1/1 [==============================] - 0s 5ms/sample - loss: 2.2852e-07 - acc: 1.0000\n",
            "Epoch 265/400\n",
            "1/1 [==============================] - 0s 5ms/sample - loss: 2.9031e-07 - acc: 1.0000\n",
            "Epoch 266/400\n",
            "1/1 [==============================] - 0s 4ms/sample - loss: 2.4364e-07 - acc: 1.0000\n",
            "Epoch 267/400\n",
            "1/1 [==============================] - 0s 4ms/sample - loss: 2.1517e-07 - acc: 1.0000\n",
            "Epoch 268/400\n",
            "1/1 [==============================] - 0s 5ms/sample - loss: 2.1964e-07 - acc: 1.0000\n",
            "Epoch 269/400\n",
            "1/1 [==============================] - 0s 3ms/sample - loss: 1.7112e-06 - acc: 1.0000\n",
            "Epoch 270/400\n",
            "1/1 [==============================] - 0s 5ms/sample - loss: 8.4718e-07 - acc: 1.0000\n",
            "Epoch 271/400\n",
            "1/1 [==============================] - 0s 4ms/sample - loss: 3.2213e-07 - acc: 1.0000\n",
            "Epoch 272/400\n",
            "1/1 [==============================] - 0s 6ms/sample - loss: 7.1929e-07 - acc: 1.0000\n",
            "Epoch 273/400\n",
            "1/1 [==============================] - 0s 4ms/sample - loss: 4.9438e-07 - acc: 1.0000\n",
            "Epoch 274/400\n",
            "1/1 [==============================] - 0s 5ms/sample - loss: 4.1771e-07 - acc: 1.0000\n",
            "Epoch 275/400\n",
            "1/1 [==============================] - 0s 6ms/sample - loss: 3.4710e-07 - acc: 1.0000\n",
            "Epoch 276/400\n",
            "1/1 [==============================] - 0s 6ms/sample - loss: 4.3446e-07 - acc: 1.0000\n",
            "Epoch 277/400\n",
            "1/1 [==============================] - 0s 4ms/sample - loss: 3.7228e-07 - acc: 1.0000\n",
            "Epoch 278/400\n",
            "1/1 [==============================] - 0s 4ms/sample - loss: 3.0883e-07 - acc: 1.0000\n",
            "Epoch 279/400\n",
            "1/1 [==============================] - 0s 6ms/sample - loss: 2.3613e-07 - acc: 1.0000\n",
            "Epoch 280/400\n",
            "1/1 [==============================] - 0s 7ms/sample - loss: 3.0788e-07 - acc: 1.0000\n",
            "Epoch 281/400\n",
            "1/1 [==============================] - 0s 5ms/sample - loss: 2.8975e-07 - acc: 1.0000\n",
            "Epoch 282/400\n",
            "1/1 [==============================] - 0s 4ms/sample - loss: 2.1639e-07 - acc: 1.0000\n",
            "Epoch 283/400\n",
            "1/1 [==============================] - 0s 5ms/sample - loss: 2.1640e-07 - acc: 1.0000\n",
            "Epoch 284/400\n",
            "1/1 [==============================] - 0s 4ms/sample - loss: 2.1653e-07 - acc: 1.0000\n",
            "Epoch 285/400\n",
            "1/1 [==============================] - 0s 4ms/sample - loss: 1.7470e-07 - acc: 1.0000\n",
            "Epoch 286/400\n",
            "1/1 [==============================] - 0s 5ms/sample - loss: 1.6013e-07 - acc: 1.0000\n",
            "Epoch 287/400\n",
            "1/1 [==============================] - 0s 5ms/sample - loss: 1.7666e-07 - acc: 1.0000\n",
            "Epoch 288/400\n",
            "1/1 [==============================] - 0s 3ms/sample - loss: 1.8978e-07 - acc: 1.0000\n",
            "Epoch 289/400\n",
            "1/1 [==============================] - 0s 4ms/sample - loss: 1.5596e-07 - acc: 1.0000\n",
            "Epoch 290/400\n",
            "1/1 [==============================] - 0s 5ms/sample - loss: 1.7524e-07 - acc: 1.0000\n",
            "Epoch 291/400\n",
            "1/1 [==============================] - 0s 5ms/sample - loss: 2.3014e-07 - acc: 1.0000\n",
            "Epoch 292/400\n",
            "1/1 [==============================] - 0s 4ms/sample - loss: 1.3255e-07 - acc: 1.0000\n",
            "Epoch 293/400\n",
            "1/1 [==============================] - 0s 6ms/sample - loss: 1.7253e-07 - acc: 1.0000\n",
            "Epoch 294/400\n",
            "1/1 [==============================] - 0s 5ms/sample - loss: 1.4664e-07 - acc: 1.0000\n",
            "Epoch 295/400\n",
            "1/1 [==============================] - 0s 5ms/sample - loss: 1.1987e-07 - acc: 1.0000\n",
            "Epoch 296/400\n",
            "1/1 [==============================] - 0s 3ms/sample - loss: 1.1306e-07 - acc: 1.0000\n",
            "Epoch 297/400\n",
            "1/1 [==============================] - 0s 5ms/sample - loss: 1.1408e-07 - acc: 1.0000\n",
            "Epoch 298/400\n",
            "1/1 [==============================] - 0s 5ms/sample - loss: 9.7960e-08 - acc: 1.0000\n",
            "Epoch 299/400\n",
            "1/1 [==============================] - 0s 5ms/sample - loss: 8.7797e-08 - acc: 1.0000\n",
            "Epoch 300/400\n",
            "1/1 [==============================] - 0s 4ms/sample - loss: 7.7397e-08 - acc: 1.0000\n",
            "Epoch 301/400\n",
            "1/1 [==============================] - 0s 5ms/sample - loss: 6.4709e-08 - acc: 1.0000\n",
            "Epoch 302/400\n",
            "1/1 [==============================] - 0s 4ms/sample - loss: 8.5054e-08 - acc: 1.0000\n",
            "Epoch 303/400\n",
            "1/1 [==============================] - 0s 4ms/sample - loss: 6.9988e-08 - acc: 1.0000\n",
            "Epoch 304/400\n",
            "1/1 [==============================] - 0s 4ms/sample - loss: 1.1719e-07 - acc: 1.0000\n",
            "Epoch 305/400\n",
            "1/1 [==============================] - 0s 3ms/sample - loss: 8.8408e-08 - acc: 1.0000\n",
            "Epoch 306/400\n",
            "1/1 [==============================] - 0s 10ms/sample - loss: 7.6895e-08 - acc: 1.0000\n",
            "Epoch 307/400\n",
            "1/1 [==============================] - 0s 8ms/sample - loss: 1.0455e-07 - acc: 1.0000\n",
            "Epoch 308/400\n",
            "1/1 [==============================] - 0s 9ms/sample - loss: 1.2153e-07 - acc: 1.0000\n",
            "Epoch 309/400\n",
            "1/1 [==============================] - 0s 6ms/sample - loss: 3.0612e-07 - acc: 1.0000\n",
            "Epoch 310/400\n",
            "1/1 [==============================] - 0s 5ms/sample - loss: 2.1699e-07 - acc: 1.0000\n",
            "Epoch 311/400\n",
            "1/1 [==============================] - 0s 3ms/sample - loss: 2.5150e-07 - acc: 1.0000\n",
            "Epoch 312/400\n",
            "1/1 [==============================] - 0s 5ms/sample - loss: 3.0035e-07 - acc: 1.0000\n",
            "Epoch 313/400\n",
            "1/1 [==============================] - 0s 3ms/sample - loss: 2.5726e-07 - acc: 1.0000\n",
            "Epoch 314/400\n",
            "1/1 [==============================] - 0s 5ms/sample - loss: 2.8169e-07 - acc: 1.0000\n",
            "Epoch 315/400\n",
            "1/1 [==============================] - 0s 5ms/sample - loss: 2.0011e-07 - acc: 1.0000\n",
            "Epoch 316/400\n",
            "1/1 [==============================] - 0s 6ms/sample - loss: 1.7799e-07 - acc: 1.0000\n",
            "Epoch 317/400\n",
            "1/1 [==============================] - 0s 6ms/sample - loss: 1.7056e-07 - acc: 1.0000\n",
            "Epoch 318/400\n",
            "1/1 [==============================] - 0s 9ms/sample - loss: 1.5492e-07 - acc: 1.0000\n",
            "Epoch 319/400\n",
            "1/1 [==============================] - 0s 7ms/sample - loss: 1.3931e-07 - acc: 1.0000\n",
            "Epoch 320/400\n",
            "1/1 [==============================] - 0s 6ms/sample - loss: 1.5524e-07 - acc: 1.0000\n",
            "Epoch 321/400\n",
            "1/1 [==============================] - 0s 6ms/sample - loss: 1.4068e-07 - acc: 1.0000\n",
            "Epoch 322/400\n",
            "1/1 [==============================] - 0s 4ms/sample - loss: 1.0763e-07 - acc: 1.0000\n",
            "Epoch 323/400\n",
            "1/1 [==============================] - 0s 4ms/sample - loss: 1.1803e-07 - acc: 1.0000\n",
            "Epoch 324/400\n",
            "1/1 [==============================] - 0s 4ms/sample - loss: 9.8841e-08 - acc: 1.0000\n",
            "Epoch 325/400\n",
            "1/1 [==============================] - 0s 4ms/sample - loss: 1.1089e-07 - acc: 1.0000\n",
            "Epoch 326/400\n",
            "1/1 [==============================] - 0s 4ms/sample - loss: 8.7477e-08 - acc: 1.0000\n",
            "Epoch 327/400\n",
            "1/1 [==============================] - 0s 4ms/sample - loss: 1.2807e-07 - acc: 1.0000\n",
            "Epoch 328/400\n",
            "1/1 [==============================] - 0s 5ms/sample - loss: 1.3601e-07 - acc: 1.0000\n",
            "Epoch 329/400\n",
            "1/1 [==============================] - 0s 3ms/sample - loss: 2.2115e-07 - acc: 1.0000\n",
            "Epoch 330/400\n",
            "1/1 [==============================] - 0s 4ms/sample - loss: 1.5735e-07 - acc: 1.0000\n",
            "Epoch 331/400\n",
            "1/1 [==============================] - 0s 4ms/sample - loss: 1.4558e-07 - acc: 1.0000\n",
            "Epoch 332/400\n",
            "1/1 [==============================] - 0s 4ms/sample - loss: 2.5838e-07 - acc: 1.0000\n",
            "Epoch 333/400\n",
            "1/1 [==============================] - 0s 5ms/sample - loss: 1.7158e-07 - acc: 1.0000\n",
            "Epoch 334/400\n",
            "1/1 [==============================] - 0s 4ms/sample - loss: 1.5276e-07 - acc: 1.0000\n",
            "Epoch 335/400\n",
            "1/1 [==============================] - 0s 3ms/sample - loss: 1.5073e-07 - acc: 1.0000\n",
            "Epoch 336/400\n",
            "1/1 [==============================] - 0s 4ms/sample - loss: 2.0140e-07 - acc: 1.0000\n",
            "Epoch 337/400\n",
            "1/1 [==============================] - 0s 3ms/sample - loss: 1.8529e-07 - acc: 1.0000\n",
            "Epoch 338/400\n",
            "1/1 [==============================] - 0s 5ms/sample - loss: 1.5605e-07 - acc: 1.0000\n",
            "Epoch 339/400\n",
            "1/1 [==============================] - 0s 5ms/sample - loss: 4.4288e-07 - acc: 1.0000\n",
            "Epoch 340/400\n",
            "1/1 [==============================] - 0s 4ms/sample - loss: 2.3716e-07 - acc: 1.0000\n",
            "Epoch 341/400\n",
            "1/1 [==============================] - 0s 4ms/sample - loss: 1.9583e-07 - acc: 1.0000\n",
            "Epoch 342/400\n",
            "1/1 [==============================] - 0s 7ms/sample - loss: 1.9111e-07 - acc: 1.0000\n",
            "Epoch 343/400\n",
            "1/1 [==============================] - 0s 4ms/sample - loss: 1.4930e-07 - acc: 1.0000\n",
            "Epoch 344/400\n",
            "1/1 [==============================] - 0s 5ms/sample - loss: 3.5217e-07 - acc: 1.0000\n",
            "Epoch 345/400\n",
            "1/1 [==============================] - 0s 6ms/sample - loss: 2.7979e-07 - acc: 1.0000\n",
            "Epoch 346/400\n",
            "1/1 [==============================] - 0s 12ms/sample - loss: 5.2562e-07 - acc: 1.0000\n",
            "Epoch 347/400\n",
            "1/1 [==============================] - 0s 7ms/sample - loss: 2.3036e-07 - acc: 1.0000\n",
            "Epoch 348/400\n",
            "1/1 [==============================] - 0s 5ms/sample - loss: 2.9068e-07 - acc: 1.0000\n",
            "Epoch 349/400\n",
            "1/1 [==============================] - 0s 5ms/sample - loss: 2.5693e-07 - acc: 1.0000\n",
            "Epoch 350/400\n",
            "1/1 [==============================] - 0s 5ms/sample - loss: 2.0223e-07 - acc: 1.0000\n",
            "Epoch 351/400\n",
            "1/1 [==============================] - 0s 5ms/sample - loss: 1.9749e-07 - acc: 1.0000\n",
            "Epoch 352/400\n",
            "1/1 [==============================] - 0s 5ms/sample - loss: 2.4845e-07 - acc: 1.0000\n",
            "Epoch 353/400\n",
            "1/1 [==============================] - 0s 5ms/sample - loss: 1.9492e-07 - acc: 1.0000\n",
            "Epoch 354/400\n",
            "1/1 [==============================] - 0s 5ms/sample - loss: 1.9733e-07 - acc: 1.0000\n",
            "Epoch 355/400\n",
            "1/1 [==============================] - 0s 5ms/sample - loss: 1.7451e-07 - acc: 1.0000\n",
            "Epoch 356/400\n",
            "1/1 [==============================] - 0s 5ms/sample - loss: 1.5879e-07 - acc: 1.0000\n",
            "Epoch 357/400\n",
            "1/1 [==============================] - 0s 5ms/sample - loss: 1.3133e-07 - acc: 1.0000\n",
            "Epoch 358/400\n",
            "1/1 [==============================] - 0s 5ms/sample - loss: 1.2052e-07 - acc: 1.0000\n",
            "Epoch 359/400\n",
            "1/1 [==============================] - 0s 5ms/sample - loss: 1.2695e-07 - acc: 1.0000\n",
            "Epoch 360/400\n",
            "1/1 [==============================] - 0s 5ms/sample - loss: 1.2822e-07 - acc: 1.0000\n",
            "Epoch 361/400\n",
            "1/1 [==============================] - 0s 4ms/sample - loss: 1.1415e-07 - acc: 1.0000\n",
            "Epoch 362/400\n",
            "1/1 [==============================] - 0s 6ms/sample - loss: 9.2893e-08 - acc: 1.0000\n",
            "Epoch 363/400\n",
            "1/1 [==============================] - 0s 7ms/sample - loss: 1.0688e-07 - acc: 1.0000\n",
            "Epoch 364/400\n",
            "1/1 [==============================] - 0s 5ms/sample - loss: 1.5940e-07 - acc: 1.0000\n",
            "Epoch 365/400\n",
            "1/1 [==============================] - 0s 7ms/sample - loss: 2.5460e-06 - acc: 1.0000\n",
            "Epoch 366/400\n",
            "1/1 [==============================] - 0s 9ms/sample - loss: 2.1572e-06 - acc: 1.0000\n",
            "Epoch 367/400\n",
            "1/1 [==============================] - 0s 5ms/sample - loss: 1.1502e-06 - acc: 1.0000\n",
            "Epoch 368/400\n",
            "1/1 [==============================] - 0s 5ms/sample - loss: 1.0302e-06 - acc: 1.0000\n",
            "Epoch 369/400\n",
            "1/1 [==============================] - 0s 5ms/sample - loss: 8.2316e-07 - acc: 1.0000\n",
            "Epoch 370/400\n",
            "1/1 [==============================] - 0s 9ms/sample - loss: 9.0692e-07 - acc: 1.0000\n",
            "Epoch 371/400\n",
            "1/1 [==============================] - 0s 7ms/sample - loss: 3.3780e-06 - acc: 1.0000\n",
            "Epoch 372/400\n",
            "1/1 [==============================] - 0s 7ms/sample - loss: 1.6720e-06 - acc: 1.0000\n",
            "Epoch 373/400\n",
            "1/1 [==============================] - 0s 7ms/sample - loss: 1.2441e-06 - acc: 1.0000\n",
            "Epoch 374/400\n",
            "1/1 [==============================] - 0s 4ms/sample - loss: 1.2987e-06 - acc: 1.0000\n",
            "Epoch 375/400\n",
            "1/1 [==============================] - 0s 6ms/sample - loss: 1.0439e-06 - acc: 1.0000\n",
            "Epoch 376/400\n",
            "1/1 [==============================] - 0s 4ms/sample - loss: 9.3092e-07 - acc: 1.0000\n",
            "Epoch 377/400\n",
            "1/1 [==============================] - 0s 3ms/sample - loss: 9.6244e-07 - acc: 1.0000\n",
            "Epoch 378/400\n",
            "1/1 [==============================] - 0s 6ms/sample - loss: 1.2146e-06 - acc: 1.0000\n",
            "Epoch 379/400\n",
            "1/1 [==============================] - 0s 5ms/sample - loss: 9.7259e-07 - acc: 1.0000\n",
            "Epoch 380/400\n",
            "1/1 [==============================] - 0s 5ms/sample - loss: 8.4745e-07 - acc: 1.0000\n",
            "Epoch 381/400\n",
            "1/1 [==============================] - 0s 6ms/sample - loss: 8.4831e-07 - acc: 1.0000\n",
            "Epoch 382/400\n",
            "1/1 [==============================] - 0s 9ms/sample - loss: 6.5935e-07 - acc: 1.0000\n",
            "Epoch 383/400\n",
            "1/1 [==============================] - 0s 4ms/sample - loss: 5.7251e-07 - acc: 1.0000\n",
            "Epoch 384/400\n",
            "1/1 [==============================] - 0s 7ms/sample - loss: 5.9357e-07 - acc: 1.0000\n",
            "Epoch 385/400\n",
            "1/1 [==============================] - 0s 4ms/sample - loss: 4.9256e-07 - acc: 1.0000\n",
            "Epoch 386/400\n",
            "1/1 [==============================] - 0s 4ms/sample - loss: 5.0517e-07 - acc: 1.0000\n",
            "Epoch 387/400\n",
            "1/1 [==============================] - 0s 6ms/sample - loss: 4.5950e-07 - acc: 1.0000\n",
            "Epoch 388/400\n",
            "1/1 [==============================] - 0s 5ms/sample - loss: 3.7250e-07 - acc: 1.0000\n",
            "Epoch 389/400\n",
            "1/1 [==============================] - 0s 5ms/sample - loss: 4.4900e-07 - acc: 1.0000\n",
            "Epoch 390/400\n",
            "1/1 [==============================] - 0s 6ms/sample - loss: 3.5065e-07 - acc: 1.0000\n",
            "Epoch 391/400\n",
            "1/1 [==============================] - 0s 5ms/sample - loss: 3.3610e-07 - acc: 1.0000\n",
            "Epoch 392/400\n",
            "1/1 [==============================] - 0s 5ms/sample - loss: 3.2045e-07 - acc: 1.0000\n",
            "Epoch 393/400\n",
            "1/1 [==============================] - 0s 4ms/sample - loss: 3.0203e-07 - acc: 1.0000\n",
            "Epoch 394/400\n",
            "1/1 [==============================] - 0s 6ms/sample - loss: 3.0138e-07 - acc: 1.0000\n",
            "Epoch 395/400\n",
            "1/1 [==============================] - 0s 8ms/sample - loss: 2.9051e-07 - acc: 1.0000\n",
            "Epoch 396/400\n",
            "1/1 [==============================] - 0s 7ms/sample - loss: 2.2180e-07 - acc: 1.0000\n",
            "Epoch 397/400\n",
            "1/1 [==============================] - 0s 5ms/sample - loss: 2.3317e-07 - acc: 1.0000\n",
            "Epoch 398/400\n",
            "1/1 [==============================] - 0s 5ms/sample - loss: 2.0166e-07 - acc: 1.0000\n",
            "Epoch 399/400\n",
            "1/1 [==============================] - 0s 4ms/sample - loss: 2.0202e-07 - acc: 1.0000\n",
            "Epoch 400/400\n",
            "1/1 [==============================] - 0s 6ms/sample - loss: 2.1340e-07 - acc: 1.0000\n",
            "1/1 [==============================] - 0s 94ms/sample - loss: 3.1623e-06 - acc: 1.0000\n"
          ],
          "name": "stdout"
        }
      ]
    },
    {
      "cell_type": "code",
      "metadata": {
        "id": "rFP0kK3VFPYu",
        "colab_type": "code",
        "colab": {}
      },
      "source": [
        "\n",
        "y_train_pred2 = model1.predict(x1)\n",
        "\n",
        "#y_train_val2 = model1.predict(x_val_conv1)\n",
        "\n",
        "\n",
        "#y_train_pred3 = y_train_scaler.inverse_transform(y_train_pred2) "
      ],
      "execution_count": 0,
      "outputs": []
    },
    {
      "cell_type": "code",
      "metadata": {
        "id": "OKSIhrjp2c9e",
        "colab_type": "code",
        "outputId": "3bb1f2e3-1831-4ade-d4b4-5ec5e02d4780",
        "colab": {
          "base_uri": "https://localhost:8080/",
          "height": 653
        }
      },
      "source": [
        "\n",
        "fig, ax = plt.subplots(1, 3, figsize=(9, 3))\n",
        "\n",
        "\n",
        "###### Plot losses\n",
        "ax[1].set_title('Loss vs. Epoch {}'.format(y_col))\n",
        "ax[1].plot(history.history['loss'])\n",
        "#ax[1].plot(history.history['val_loss'])\n",
        "plt.tight_layout()\n",
        "\n",
        "\n",
        "\n",
        "##### time series plot\n",
        "plt.figure(figsize=(15, 7))\n",
        "plt.plot(np.linspace(0, x1.shape[1]-1, x1.shape[1]),  np.squeeze(y_train_pred2), label='Predicted flow {}'.format(y_col), alpha = 1)\n",
        "plt.plot(np.linspace(0, x1.shape[1]-1, x1.shape[1]),  np.squeeze(y1), label='real flow', alpha = .5)\n",
        "#plt.plot(np.linspace(0, 1105, 1106),  np.squeeze(X), label='real rain')\n",
        "\n",
        "#plt.plot(val_data.index, yval, label='Predicted validate')\n",
        "#val_data[y_col].plot(label='Actual validate', alpha = .5)\n",
        "plt.legend(loc='best')\n",
        "#plt.tight_layout()"
      ],
      "execution_count": 105,
      "outputs": [
        {
          "output_type": "execute_result",
          "data": {
            "text/plain": [
              "<matplotlib.legend.Legend at 0x7fc0e74d1048>"
            ]
          },
          "metadata": {
            "tags": []
          },
          "execution_count": 105
        },
        {
          "output_type": "display_data",
          "data": {
            "image/png": "[encoded data removed]",
            "text/plain": [
              "<Figure size 648x216 with 3 Axes>"
            ]
          },
          "metadata": {
            "tags": []
          }
        },
        {
          "output_type": "display_data",
          "data": {
            "image/png": "[encoded data removed]",
            "text/plain": [
              "<Figure size 1080x504 with 1 Axes>"
            ]
          },
          "metadata": {
            "tags": []
          }
        }
      ]
    },
    {
      "cell_type": "code",
      "metadata": {
        "id": "nZ3elZu50rFz",
        "colab_type": "code",
        "outputId": "d3bcb8d8-38b1-4604-a5ab-28354910a034",
        "colab": {
          "base_uri": "https://localhost:8080/",
          "height": 653
        }
      },
      "source": [
        "\n",
        "fig, ax = plt.subplots(1, 3, figsize=(9, 3))\n",
        "\n",
        "\n",
        "###### Plot losses\n",
        "ax[1].set_title('Loss vs. Epoch {}'.format(y_col))\n",
        "ax[1].plot(history.history['loss'])\n",
        "#ax[1].plot(history.history['val_loss'])\n",
        "plt.tight_layout()\n",
        "\n",
        "\n",
        "\n",
        "##### time series plot\n",
        "plt.figure(figsize=(15, 7))\n",
        "plt.plot(np.linspace(0, x1.shape[1]-1, x1.shape[1]),  np.squeeze(y_train_pred2), label='Predicted flow {}'.format(y_col), alpha = 1)\n",
        "#plt.plot(np.linspace(0, x1.shape[1]-1, x1.shape[1]),  np.squeeze(y1), label='real flow', alpha = .5)\n",
        "#plt.plot(np.linspace(0, 1105, 1106),  np.squeeze(X), label='real rain')\n",
        "\n",
        "#plt.plot(val_data.index, yval, label='Predicted validate')\n",
        "#val_data[y_col].plot(label='Actual validate', alpha = .5)\n",
        "plt.legend(loc='best')\n",
        "#plt.tight_layout()"
      ],
      "execution_count": 106,
      "outputs": [
        {
          "output_type": "execute_result",
          "data": {
            "text/plain": [
              "<matplotlib.legend.Legend at 0x7fc0e7c14f60>"
            ]
          },
          "metadata": {
            "tags": []
          },
          "execution_count": 106
        },
        {
          "output_type": "display_data",
          "data": {
            "image/png": "[encoded data removed]",
            "text/plain": [
              "<Figure size 648x216 with 3 Axes>"
            ]
          },
          "metadata": {
            "tags": []
          }
        },
        {
          "output_type": "display_data",
          "data": {
            "image/png": "[encoded data removed]",
            "text/plain": [
              "<Figure size 1080x504 with 1 Axes>"
            ]
          },
          "metadata": {
            "tags": []
          }
        }
      ]
    },
    {
      "cell_type": "code",
      "metadata": {
        "id": "cXKnaR-PcVR1",
        "colab_type": "code",
        "outputId": "84e690e6-d2bd-4636-c0d3-1ecc0103b762",
        "colab": {
          "base_uri": "https://localhost:8080/",
          "height": 52
        }
      },
      "source": [
        "np.linspace(0, 1229, 1229)"
      ],
      "execution_count": 0,
      "outputs": [
        {
          "output_type": "execute_result",
          "data": {
            "text/plain": [
              "array([0.00000000e+00, 1.00081433e+00, 2.00162866e+00, ...,\n",
              "       1.22699837e+03, 1.22799919e+03, 1.22900000e+03])"
            ]
          },
          "metadata": {
            "tags": []
          },
          "execution_count": 55
        }
      ]
    },
    {
      "cell_type": "code",
      "metadata": {
        "id": "e83wbqXKcVUL",
        "colab_type": "code",
        "colab": {}
      },
      "source": [
        ""
      ],
      "execution_count": 0,
      "outputs": []
    },
    {
      "cell_type": "code",
      "metadata": {
        "id": "myrydF_qcVZN",
        "colab_type": "code",
        "colab": {
          "base_uri": "https://localhost:8080/",
          "height": 35
        },
        "outputId": "5a52976a-7798-435f-f254-60a1aeb847c4"
      },
      "source": [
        "pwd"
      ],
      "execution_count": 23,
      "outputs": [
        {
          "output_type": "execute_result",
          "data": {
            "text/plain": [
              "'/content/cloned-repo/Scripts'"
            ]
          },
          "metadata": {
            "tags": []
          },
          "execution_count": 23
        }
      ]
    },
    {
      "cell_type": "code",
      "metadata": {
        "id": "4w2A5l_Nrv3l",
        "colab_type": "code",
        "colab": {}
      },
      "source": [
        ""
      ],
      "execution_count": 0,
      "outputs": []
    }
  ]
}