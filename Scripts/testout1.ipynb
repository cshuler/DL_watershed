{
  "nbformat": 4,
  "nbformat_minor": 0,
  "metadata": {
    "colab": {
      "name": "testout1.ipynb",
      "provenance": [],
      "include_colab_link": true
    },
    "kernelspec": {
      "name": "python3",
      "display_name": "Python 3"
    }
  },
  "cells": [
    {
      "cell_type": "markdown",
      "metadata": {
        "id": "view-in-github",
        "colab_type": "text"
      },
      "source": [
        "<a href=\"https://colab.research.google.com/github/cshuler/DL_watershed/blob/master/Scripts/testout1.ipynb\" target=\"_parent\"><img src=\"https://colab.research.google.com/assets/colab-badge.svg\" alt=\"Open In Colab\"/></a>"
      ]
    },
    {
      "cell_type": "code",
      "metadata": {
        "id": "71vSeq7_nh0Z",
        "colab_type": "code",
        "colab": {}
      },
      "source": [
        "import os\n",
        "import keras"
      ],
      "execution_count": 0,
      "outputs": []
    },
    {
      "cell_type": "code",
      "metadata": {
        "id": "3N5nwzOvnjsO",
        "colab_type": "code",
        "colab": {
          "base_uri": "https://localhost:8080/",
          "height": 230
        },
        "outputId": "6e125cb1-9648-4d4b-8c52-f5f04f2e3f44"
      },
      "source": [
        "# Clone DL repo.\n",
        "!git clone -l -s git://github.com/cshuler/DL_watershed cloned-repo\n",
        "%cd cloned-repo\n",
        "# note that repo is cloned. Files saved will save to temprary space if in google colab\n",
        "#i.e. try not to save anything"
      ],
      "execution_count": 2,
      "outputs": [
        {
          "output_type": "stream",
          "text": [
            "Cloning into 'cloned-repo'...\n",
            "warning: --local is ignored\n",
            "remote: Enumerating objects: 4335, done.\u001b[K\n",
            "remote: Counting objects: 100% (4335/4335), done.\u001b[K\n",
            "remote: Compressing objects: 100% (372/372), done.\u001b[K\n",
            "remote: Total 4335 (delta 3930), reused 4335 (delta 3930), pack-reused 0\u001b[K\n",
            "Receiving objects: 100% (4335/4335), 34.90 MiB | 19.43 MiB/s, done.\n",
            "Resolving deltas: 100% (3930/3930), done.\n",
            "Checking out files: 100% (4400/4400), done.\n",
            "/content/cloned-repo\n",
            "environment.yml  Q_SWAT_workflow_testing  README.md  Scripts\n",
            "notes.txt\t Raw_Data_tutuila\t  refs\t     Scripts_for_later\n"
          ],
          "name": "stdout"
        }
      ]
    },
    {
      "cell_type": "code",
      "metadata": {
        "id": "PqZf6KKMoMyf",
        "colab_type": "code",
        "colab": {
          "base_uri": "https://localhost:8080/",
          "height": 35
        },
        "outputId": "9f13b50f-1997-403d-8049-dc3095335326"
      },
      "source": [
        "os.listdir('Raw_Data_tutuila')"
      ],
      "execution_count": 4,
      "outputs": [
        {
          "output_type": "execute_result",
          "data": {
            "text/plain": [
              "['Shapefiles', 'Land_use']"
            ]
          },
          "metadata": {
            "tags": []
          },
          "execution_count": 4
        }
      ]
    },
    {
      "cell_type": "code",
      "metadata": {
        "id": "49aE-zOfpeHl",
        "colab_type": "code",
        "colab": {}
      },
      "source": [
        ""
      ],
      "execution_count": 0,
      "outputs": []
    }
  ]
}