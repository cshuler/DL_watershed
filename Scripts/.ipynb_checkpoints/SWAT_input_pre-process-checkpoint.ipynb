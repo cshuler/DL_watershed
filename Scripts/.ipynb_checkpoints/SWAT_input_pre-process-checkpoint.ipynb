{
 "cells": [
  {
   "cell_type": "markdown",
   "metadata": {},
   "source": [
    "# clip DEMS based on shapefile boundaries\n",
    "\n",
    "note "
   ]
  },
  {
   "cell_type": "code",
   "execution_count": null,
   "metadata": {},
   "outputs": [],
   "source": [
    "import os\n",
    "#import arcpy\n",
    "\n",
    "# absolutetorelativepath = r'C:\\Users\\WRRC_field3\\Desktop\\Chris_Stuff\\SWAT\\Automatico'\n",
    "# absolutetorelativepath = '.'\n",
    "\n",
    "\n",
    "masklist =   os.path.join(absolutetorelativepath, \"Island_data\\Gauges_shed_data\\Shed_masks\")\n",
    "bigDEM =     os.path.join(absolutetorelativepath, 'Island_data\\LU_Soil_DEM\\dem_prj1.tif')\n",
    "\n",
    "files = os.listdir(masklist)\n",
    "\n",
    "for i in files:      \n",
    "\n",
    "    if i.endswith(\".shp\"):  \n",
    "        shedname = i.split(\"_\")[0]\n",
    "\n",
    "        if not os.path.exists(os.path.join(absolutetorelativepath, shedname)) :   # workspace path\n",
    "            os.makedirs(os.path.join(absolutetorelativepath, shedname))  \n",
    "        workspace = os.path.join(absolutetorelativepath, shedname)\n",
    "   \n",
    "        maskin = os.path.join(masklist, i)\n",
    "        demout = os.path.join(workspace, \"dem.tif\".format(shedname))\n",
    "        print(demout)\n",
    "\n",
    "        arcpy.Clip_management(bigDEM, \"#\", demout, in_template_dataset = maskin, clipping_geometry = None)\n"
   ]
  },
  {
   "cell_type": "code",
   "execution_count": null,
   "metadata": {},
   "outputs": [],
   "source": []
  },
  {
   "cell_type": "code",
   "execution_count": null,
   "metadata": {},
   "outputs": [],
   "source": []
  },
  {
   "cell_type": "code",
   "execution_count": null,
   "metadata": {},
   "outputs": [],
   "source": []
  }
 ],
 "metadata": {
  "kernelspec": {
   "display_name": "Python 3",
   "language": "python",
   "name": "python3"
  },
  "language_info": {
   "codemirror_mode": {
    "name": "ipython",
    "version": 3
   },
   "file_extension": ".py",
   "mimetype": "text/x-python",
   "name": "python",
   "nbconvert_exporter": "python",
   "pygments_lexer": "ipython3",
   "version": "3.7.1"
  }
 },
 "nbformat": 4,
 "nbformat_minor": 2
}
