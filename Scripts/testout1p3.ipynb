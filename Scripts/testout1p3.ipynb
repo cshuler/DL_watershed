{
  "nbformat": 4,
  "nbformat_minor": 0,
  "metadata": {
    "colab": {
      "name": "testout1.ipynb",
      "provenance": [],
      "include_colab_link": true
    },
    "kernelspec": {
      "name": "python3",
      "display_name": "Python 3"
    }
  },
  "cells": [
    {
      "cell_type": "markdown",
      "metadata": {
        "id": "view-in-github",
        "colab_type": "text"
      },
      "source": [
        "<a href=\"https://colab.research.google.com/github/cshuler/DL_watershed/blob/master/Scripts/testout1p3.ipynb\" target=\"_parent\"><img src=\"https://colab.research.google.com/assets/colab-badge.svg\" alt=\"Open In Colab\"/></a>"
      ]
    },
    {
      "cell_type": "code",
      "metadata": {
        "id": "71vSeq7_nh0Z",
        "colab_type": "code",
        "colab": {}
      },
      "source": [
        "import os\n",
        "import pandas as pd\n",
        "import numpy as np\n",
        "import matplotlib \n",
        "import matplotlib.pyplot as plt\n",
        "import scipy\n",
        "\n",
        "\n",
        "from sklearn.preprocessing import StandardScaler\n",
        "import keras \n",
        "from keras.models import Sequential\n",
        "from keras.layers import Dense\n",
        "import tensorflow as tf\n",
        "from keras.callbacks import EarlyStopping, ModelCheckpoint\n",
        "from keras.models import load_model\n",
        "\n",
        "\n",
        "if not os.path.exists(os.path.join('.', 'workspace')):\n",
        "    os.makedirs(os.path.join('.', 'workspace'))\n",
        "workspace = os.path.join('.', 'workspace')\n",
        "\n",
        "pd.set_option('display.max_rows', 30)  "
      ],
      "execution_count": 0,
      "outputs": []
    },
    {
      "cell_type": "code",
      "metadata": {
        "id": "3N5nwzOvnjsO",
        "colab_type": "code",
        "outputId": "86157b10-6090-4ad0-aa44-9ceefa2536d8",
        "colab": {
          "base_uri": "https://localhost:8080/",
          "height": 195
        }
      },
      "source": [
        "# Clone DL repo.\n",
        "!git clone -l -s git://github.com/cshuler/DL_watershed cloned-repo\n",
        "%cd cloned-repo\n",
        "# note that repo is cloned. Files saved will save to temprary space if in google colab\n",
        "#i.e. try not to save any files you "
      ],
      "execution_count": 7,
      "outputs": [
        {
          "output_type": "stream",
          "text": [
            "Cloning into 'cloned-repo'...\n",
            "warning: --local is ignored\n",
            "remote: Enumerating objects: 4343, done.\u001b[K\n",
            "remote: Counting objects:   0% (1/4343)\u001b[K\rremote: Counting objects:   1% (44/4343)\u001b[K\rremote: Counting objects:   2% (87/4343)\u001b[K\rremote: Counting objects:   3% (131/4343)\u001b[K\rremote: Counting objects:   4% (174/4343)\u001b[K\rremote: Counting objects:   5% (218/4343)\u001b[K\rremote: Counting objects:   6% (261/4343)\u001b[K\rremote: Counting objects:   7% (305/4343)\u001b[K\rremote: Counting objects:   8% (348/4343)\u001b[K\rremote: Counting objects:   9% (391/4343)\u001b[K\rremote: Counting objects:  10% (435/4343)\u001b[K\rremote: Counting objects:  11% (478/4343)\u001b[K\rremote: Counting objects:  12% (522/4343)\u001b[K\rremote: Counting objects:  13% (565/4343)\u001b[K\rremote: Counting objects:  14% (609/4343)\u001b[K\rremote: Counting objects:  15% (652/4343)\u001b[K\rremote: Counting objects:  16% (695/4343)\u001b[K\rremote: Counting objects:  17% (739/4343)\u001b[K\rremote: Counting objects:  18% (782/4343)\u001b[K\rremote: Counting objects:  19% (826/4343)\u001b[K\rremote: Counting objects:  20% (869/4343)\u001b[K\rremote: Counting objects:  21% (913/4343)\u001b[K\rremote: Counting objects:  22% (956/4343)\u001b[K\rremote: Counting objects:  23% (999/4343)\u001b[K\rremote: Counting objects:  24% (1043/4343)\u001b[K\rremote: Counting objects:  25% (1086/4343)\u001b[K\rremote: Counting objects:  26% (1130/4343)\u001b[K\rremote: Counting objects:  27% (1173/4343)\u001b[K\rremote: Counting objects:  28% (1217/4343)\u001b[K\rremote: Counting objects:  29% (1260/4343)\u001b[K\rremote: Counting objects:  30% (1303/4343)\u001b[K\rremote: Counting objects:  31% (1347/4343)\u001b[K\rremote: Counting objects:  32% (1390/4343)\u001b[K\rremote: Counting objects:  33% (1434/4343)\u001b[K\rremote: Counting objects:  34% (1477/4343)\u001b[K\rremote: Counting objects:  35% (1521/4343)\u001b[K\rremote: Counting objects:  36% (1564/4343)\u001b[K\rremote: Counting objects:  37% (1607/4343)\u001b[K\rremote: Counting objects:  38% (1651/4343)\u001b[K\rremote: Counting objects:  39% (1694/4343)\u001b[K\rremote: Counting objects:  40% (1738/4343)\u001b[K\rremote: Counting objects:  41% (1781/4343)\u001b[K\rremote: Counting objects:  42% (1825/4343)\u001b[K\rremote: Counting objects:  43% (1868/4343)\u001b[K\rremote: Counting objects:  44% (1911/4343)\u001b[K\rremote: Counting objects:  45% (1955/4343)\u001b[K\rremote: Counting objects:  46% (1998/4343)\u001b[K\rremote: Counting objects:  47% (2042/4343)\u001b[K\rremote: Counting objects:  48% (2085/4343)\u001b[K\rremote: Counting objects:  49% (2129/4343)\u001b[K\rremote: Counting objects:  50% (2172/4343)\u001b[K\rremote: Counting objects:  51% (2215/4343)\u001b[K\rremote: Counting objects:  52% (2259/4343)\u001b[K\rremote: Counting objects:  53% (2302/4343)\u001b[K\rremote: Counting objects:  54% (2346/4343)\u001b[K\rremote: Counting objects:  55% (2389/4343)\u001b[K\rremote: Counting objects:  56% (2433/4343)\u001b[K\rremote: Counting objects:  57% (2476/4343)\u001b[K\rremote: Counting objects:  58% (2519/4343)\u001b[K\rremote: Counting objects:  59% (2563/4343)\u001b[K\rremote: Counting objects:  60% (2606/4343)\u001b[K\rremote: Counting objects:  61% (2650/4343)\u001b[K\rremote: Counting objects:  62% (2693/4343)\u001b[K\rremote: Counting objects:  63% (2737/4343)\u001b[K\rremote: Counting objects:  64% (2780/4343)\u001b[K\rremote: Counting objects:  65% (2823/4343)\u001b[K\rremote: Counting objects:  66% (2867/4343)\u001b[K\rremote: Counting objects:  67% (2910/4343)\u001b[K\rremote: Counting objects:  68% (2954/4343)\u001b[K\rremote: Counting objects:  69% (2997/4343)\u001b[K\rremote: Counting objects:  70% (3041/4343)\u001b[K\rremote: Counting objects:  71% (3084/4343)\u001b[K\rremote: Counting objects:  72% (3127/4343)\u001b[K\rremote: Counting objects:  73% (3171/4343)\u001b[K\rremote: Counting objects:  74% (3214/4343)\u001b[K\rremote: Counting objects:  75% (3258/4343)\u001b[K\rremote: Counting objects:  76% (3301/4343)\u001b[K\rremote: Counting objects:  77% (3345/4343)\u001b[K\rremote: Counting objects:  78% (3388/4343)\u001b[K\rremote: Counting objects:  79% (3431/4343)\u001b[K\rremote: Counting objects:  80% (3475/4343)\u001b[K\rremote: Counting objects:  81% (3518/4343)\u001b[K\rremote: Counting objects:  82% (3562/4343)\u001b[K\rremote: Counting objects:  83% (3605/4343)\u001b[K\rremote: Counting objects:  84% (3649/4343)\u001b[K\rremote: Counting objects:  85% (3692/4343)\u001b[K\rremote: Counting objects:  86% (3735/4343)\u001b[K\rremote: Counting objects:  87% (3779/4343)\u001b[K\rremote: Counting objects:  88% (3822/4343)\u001b[K\rremote: Counting objects:  89% (3866/4343)\u001b[K\rremote: Counting objects:  90% (3909/4343)\u001b[K\rremote: Counting objects:  91% (3953/4343)\u001b[K\rremote: Counting objects:  92% (3996/4343)\u001b[K\rremote: Counting objects:  93% (4039/4343)\u001b[K\rremote: Counting objects:  94% (4083/4343)\u001b[K\rremote: Counting objects:  95% (4126/4343)\u001b[K\rremote: Counting objects:  96% (4170/4343)\u001b[K\rremote: Counting objects:  97% (4213/4343)\u001b[K\rremote: Counting objects:  98% (4257/4343)\u001b[K\rremote: Counting objects:  99% (4300/4343)\u001b[K\rremote: Counting objects: 100% (4343/4343)\u001b[K\rremote: Counting objects: 100% (4343/4343), done.\u001b[K\n",
            "remote: Compressing objects: 100% (382/382), done.\u001b[K\n",
            "remote: Total 4343 (delta 3931), reused 4336 (delta 3928), pack-reused 0\u001b[K\n",
            "Receiving objects: 100% (4343/4343), 35.65 MiB | 21.20 MiB/s, done.\n",
            "Resolving deltas: 100% (3931/3931), done.\n",
            "Checking out files: 100% (4405/4405), done.\n",
            "/content/cloned-repo\n"
          ],
          "name": "stdout"
        }
      ]
    },
    {
      "cell_type": "markdown",
      "metadata": {
        "id": "wR4Cqu4SXlCG",
        "colab_type": "text"
      },
      "source": [
        "\n",
        "# load up data files\n",
        "\n",
        "\n"
      ]
    },
    {
      "cell_type": "code",
      "metadata": {
        "id": "49aE-zOfpeHl",
        "colab_type": "code",
        "colab": {}
      },
      "source": [
        "# import precip data\n",
        "preciprawdata = pd.read_csv(os.path.join('Raw_Data_tutuila', 'Olkeba_data', 'LBJ_Precip_mm.csv' ), index_col=0,parse_dates=True)\n",
        "\n",
        "#import flow data\n",
        "LBJflowrawdata = pd.read_csv(os.path.join('Raw_Data_tutuila', 'Olkeba_data', 'LBJ_Alex_Q_CFSs.csv'), index_col=0, parse_dates=True)\n",
        "LBJflowrawdata = LBJflowrawdata.resample('D').mean()     # subsample the 15 min data into daily values"
      ],
      "execution_count": 0,
      "outputs": []
    },
    {
      "cell_type": "code",
      "metadata": {
        "id": "aNsd_7X_WRip",
        "colab_type": "code",
        "colab": {}
      },
      "source": [
        "mergeddata = pd.merge(preciprawdata, LBJflowrawdata, how='inner', left_index=True, right_index=True) \n",
        "\n",
        "# deal with the fact that the beginning and end of the datasets are missing, make them \"gaps\"\n",
        "mergeddata['Q_CFS'][0] = mergeddata['Q_CFS'].mean()\n",
        "mergeddata['Q_CFS'][-1] = mergeddata['Q_CFS'].mean()   # by setting the first and last value to the mean. Super dirty...\n",
        "\n",
        "unbroken_data = mergeddata.dropna()       # remove any rows where there is no data (a gap)"
      ],
      "execution_count": 0,
      "outputs": []
    },
    {
      "cell_type": "code",
      "metadata": {
        "id": "4Ix-KN46O_2x",
        "colab_type": "code",
        "colab": {}
      },
      "source": [
        ""
      ],
      "execution_count": 0,
      "outputs": []
    },
    {
      "cell_type": "code",
      "metadata": {
        "id": "nhwpYj5mGWhP",
        "colab_type": "code",
        "colab": {}
      },
      "source": [
        "# This is the function to mke a training dataset. \n",
        "\"\"\" Variables are: \n",
        "    unbroken_data:   is a pandas dataframe of weather variable data, with datetimmes as the index\n",
        "    x_cols:          is a LIST of the column names for the input variables\n",
        "    y_col:           is the name (string) of the column of the output variable\n",
        "    TS_value:     is a decimal value defining how much of the dataset to use for training vs validation (0.99) = 99% training 1% validation\n",
        "    \n",
        "(Maybe use NAME: as a string name to assosiate with the output of this function?)\n",
        "\"\"\"\n",
        "\n",
        "def make_training_dataset(unbroken_data, x_cols, y_col, TS_value = 0.80):\n",
        "    \n",
        "    TRAIN_SPLIT = int(len(unbroken_data)*TS_value)     \n",
        "    # split data for train and validation\n",
        "    train_data = unbroken_data.iloc[:TRAIN_SPLIT]\n",
        "    val_data = unbroken_data.iloc[TRAIN_SPLIT:]\n",
        "\n",
        "    # set up the training datasets\n",
        "    X_train = train_data[x_cols].values  \n",
        "    # scale the x component of the training data\n",
        "    X_train_scaler = StandardScaler().fit(X_train)\n",
        "    X_train = X_train_scaler.transform(X_train)\n",
        "\n",
        "    y_train = train_data[y_col].values                 # scale the y data too, and then make the scale unique to use it to unscale the final data later\n",
        "    y_train = y_train.reshape(-1, 1)\n",
        "    y_train_scaler = StandardScaler().fit(y_train)\n",
        "    y_train = y_train_scaler.transform(y_train)\n",
        "\n",
        "\n",
        "    # set up the validation datasets\n",
        "    X_val = val_data[x_cols].values  \n",
        "    # scale the x component of the training data\n",
        "    X_val_scaler = StandardScaler().fit(X_val)\n",
        "    X_val = X_val_scaler.transform(X_val)\n",
        "\n",
        "    y_val = val_data[y_col].values\n",
        "    y_val = y_val.reshape(-1, 1)\n",
        "    y_val_scaler = StandardScaler().fit(y_val)\n",
        "    y_val = y_val_scaler.transform(y_val)\n",
        "\n",
        "    return X_train, y_train, X_val, y_val, train_data, val_data, y_train_scaler, y_val_scaler, X_train_scaler"
      ],
      "execution_count": 0,
      "outputs": []
    },
    {
      "cell_type": "code",
      "metadata": {
        "id": "hgPv05D_G_6n",
        "colab_type": "code",
        "colab": {}
      },
      "source": [
        ""
      ],
      "execution_count": 0,
      "outputs": []
    },
    {
      "cell_type": "code",
      "metadata": {
        "id": "Czav3Z-JFIN_",
        "colab_type": "code",
        "colab": {}
      },
      "source": [
        "# format trainng and validation data\n",
        "\n",
        "x_cols = ['Precip_mm']           # define variable used for prediction\n",
        "y_col  = 'Q_CFS'                    # define which variable to predict\n",
        "\n",
        "X_train, y_train, X_val, y_val, train_data, val_data, y_train_scaler, y_val_scaler, X_train_scaler =  make_training_dataset(unbroken_data, x_cols, y_col, TS_value=0.8)"
      ],
      "execution_count": 0,
      "outputs": []
    },
    {
      "cell_type": "code",
      "metadata": {
        "id": "G3CrBls7Rx_w",
        "colab_type": "code",
        "colab": {}
      },
      "source": [
        ""
      ],
      "execution_count": 0,
      "outputs": []
    },
    {
      "cell_type": "code",
      "metadata": {
        "id": "For77DMeFIYS",
        "colab_type": "code",
        "colab": {
          "base_uri": "https://localhost:8080/",
          "height": 550
        },
        "outputId": "d2903675-8f58-47e2-dcd8-2126fd2262b4"
      },
      "source": [
        "### This is used to Identify and label places where there are gaps in the data\n",
        "\n",
        "def find_date_gaps(dataset_raw, Colinterest):\n",
        "\n",
        "    a = dataset_raw[Colinterest].values  # Extract out relevant column from dataframe as array\n",
        "    ## Now gap filling time: \n",
        "    # First: all of this is to go through each dataset and identify the start and the end of each gap. \n",
        "\n",
        "    m = np.concatenate(( [True], np.isnan(a), [True] ))  # Mask\n",
        "    ss = np.flatnonzero(m[1:] != m[:-1]).reshape(-1,2)   # Start-stop limits\n",
        "\n",
        "    gapstarts_L = []; gapends_L = []\n",
        "    # this is if the series started late, i.e. the first gap is at the beginning\n",
        "    if ss[0][0] != 0:     \n",
        "        gapstart = 0\n",
        "        gapstarts_L.append(gapstart)\n",
        "        for m in ss:\n",
        "            gapstart2 = m[1]\n",
        "            gapstarts_L.append(gapstart2)\n",
        "            gapends_L.append(m[0])\n",
        "        del gapstarts_L[-1]                       # the end number is not the start of a new gap so delete this \n",
        "\n",
        "    # this is if the series starst at the beginning of the data period, first gap is in the middle \n",
        "    for m in ss:\n",
        "        gapstarts_L.append(m[1])\n",
        "        gapends_L.append(m[0])\n",
        "    del gapstarts_L[-1]\n",
        "    del gapends_L[0]\n",
        "\n",
        "    gapstarts_Dates = []; gapends_Dates = []\n",
        "    for h in gapstarts_L:\n",
        "        date5 = dataset_raw.index[h]\n",
        "        gapstarts_Dates.append(date5)   # this is a list of the starting date of all gaps\n",
        "    for h in gapends_L:\n",
        "        date5 = dataset_raw.index[h]\n",
        "        gapends_Dates.append(date5)     # this is a list of all the ending dates of the gaps\n",
        "           \n",
        "    # list the \n",
        "    for idx, val in enumerate(gapstarts_Dates):\n",
        "        length = gapends_Dates[idx] -gapstarts_Dates[idx]\n",
        "        print(\"gap {} is {} from {} to {}\".format(idx, length, gapstarts_Dates[idx], gapends_Dates[idx] ))\n",
        "    \n",
        "    return gapstarts_Dates, gapends_Dates\n",
        "\n",
        "# run the function and see where there are date gaps\n",
        "find_date_gaps(mergeddata, 'Q_CFS')"
      ],
      "execution_count": 58,
      "outputs": [
        {
          "output_type": "stream",
          "text": [
            "gap 0 is 5 days 00:00:00 from 2012-01-02 00:00:00 to 2012-01-07 00:00:00\n",
            "gap 1 is 6 days 00:00:00 from 2012-04-04 00:00:00 to 2012-04-10 00:00:00\n",
            "gap 2 is 5 days 00:00:00 from 2012-07-10 00:00:00 to 2012-07-15 00:00:00\n",
            "gap 3 is 123 days 00:00:00 from 2012-10-11 00:00:00 to 2013-02-11 00:00:00\n",
            "gap 4 is 137 days 00:00:00 from 2013-09-26 00:00:00 to 2014-02-10 00:00:00\n",
            "gap 5 is 7 days 00:00:00 from 2014-09-24 00:00:00 to 2014-10-01 00:00:00\n",
            "gap 6 is 1 days 00:00:00 from 2014-10-09 00:00:00 to 2014-10-10 00:00:00\n",
            "gap 7 is 230 days 00:00:00 from 2015-06-20 00:00:00 to 2016-02-05 00:00:00\n",
            "gap 8 is 5 days 00:00:00 from 2016-06-24 00:00:00 to 2016-06-29 00:00:00\n",
            "gap 9 is 79 days 00:00:00 from 2016-10-13 00:00:00 to 2016-12-31 00:00:00\n"
          ],
          "name": "stdout"
        },
        {
          "output_type": "execute_result",
          "data": {
            "text/plain": [
              "([Timestamp('2012-01-02 00:00:00'),\n",
              "  Timestamp('2012-04-04 00:00:00'),\n",
              "  Timestamp('2012-07-10 00:00:00'),\n",
              "  Timestamp('2012-10-11 00:00:00'),\n",
              "  Timestamp('2013-09-26 00:00:00'),\n",
              "  Timestamp('2014-09-24 00:00:00'),\n",
              "  Timestamp('2014-10-09 00:00:00'),\n",
              "  Timestamp('2015-06-20 00:00:00'),\n",
              "  Timestamp('2016-06-24 00:00:00'),\n",
              "  Timestamp('2016-10-13 00:00:00')],\n",
              " [Timestamp('2012-01-07 00:00:00'),\n",
              "  Timestamp('2012-04-10 00:00:00'),\n",
              "  Timestamp('2012-07-15 00:00:00'),\n",
              "  Timestamp('2013-02-11 00:00:00'),\n",
              "  Timestamp('2014-02-10 00:00:00'),\n",
              "  Timestamp('2014-10-01 00:00:00'),\n",
              "  Timestamp('2014-10-10 00:00:00'),\n",
              "  Timestamp('2016-02-05 00:00:00'),\n",
              "  Timestamp('2016-06-29 00:00:00'),\n",
              "  Timestamp('2016-12-31 00:00:00')])"
            ]
          },
          "metadata": {
            "tags": []
          },
          "execution_count": 58
        }
      ]
    },
    {
      "cell_type": "code",
      "metadata": {
        "id": "G0Z7Hc43NZ6b",
        "colab_type": "code",
        "colab": {}
      },
      "source": [
        ""
      ],
      "execution_count": 0,
      "outputs": []
    },
    {
      "cell_type": "code",
      "metadata": {
        "id": "bC7yFoKxNZ-k",
        "colab_type": "code",
        "colab": {
          "base_uri": "https://localhost:8080/",
          "height": 464
        },
        "outputId": "062ef8a8-1e0c-4f4a-a240-d17190ad15e9"
      },
      "source": [
        "# this is the creation of the DLNN model as a function\n",
        "def define_model_dense(hidden_layer_sizes, input_shape, activation='relu', optimizer='sgd'):\n",
        "    \n",
        "    model = \"reset\"; del model   # redefine, then delete model to make sure previous model weights are DESTROIED!\n",
        "    model = Sequential()\n",
        "    \n",
        "    model.add(Dense(hidden_layer_sizes[0], activation=activation, input_shape=(input_shape, )))\n",
        "    for hl_size in hidden_layer_sizes[1: ]:\n",
        "        model.add(Dense(hl_size, activation=activation))\n",
        "    \n",
        "    model.add(Dense(1, activation='linear'))\n",
        "    model.summary()\n",
        "\n",
        "    model.compile(loss='mean_squared_error', optimizer=optimizer, metrics=['mean_squared_error'])\n",
        "    \n",
        "    return model\n",
        "\n",
        "\n",
        "# Define the model: \n",
        "\n",
        "# DL hyperparameters\n",
        "hidden_layer_sizes =  [12, 80, 80]\n",
        "activation     = 'relu'\n",
        "optimizer      = 'sgd'\n",
        "input_shape    = 1           # this is the number of different variables used for training datasets\n",
        "\n",
        "model = \"reset\"; del model                                                           # redefine, then delete model to make sure previous model weights are DESTROIED!\n",
        "model = define_model_dense(hidden_layer_sizes, input_shape, activation, optimizer)"
      ],
      "execution_count": 63,
      "outputs": [
        {
          "output_type": "stream",
          "text": [
            "WARNING:tensorflow:From /usr/local/lib/python3.6/dist-packages/keras/backend/tensorflow_backend.py:66: The name tf.get_default_graph is deprecated. Please use tf.compat.v1.get_default_graph instead.\n",
            "\n",
            "WARNING:tensorflow:From /usr/local/lib/python3.6/dist-packages/keras/backend/tensorflow_backend.py:541: The name tf.placeholder is deprecated. Please use tf.compat.v1.placeholder instead.\n",
            "\n",
            "WARNING:tensorflow:From /usr/local/lib/python3.6/dist-packages/keras/backend/tensorflow_backend.py:4432: The name tf.random_uniform is deprecated. Please use tf.random.uniform instead.\n",
            "\n",
            "Model: \"sequential_1\"\n",
            "_________________________________________________________________\n",
            "Layer (type)                 Output Shape              Param #   \n",
            "=================================================================\n",
            "dense_1 (Dense)              (None, 12)                24        \n",
            "_________________________________________________________________\n",
            "dense_2 (Dense)              (None, 80)                1040      \n",
            "_________________________________________________________________\n",
            "dense_3 (Dense)              (None, 80)                6480      \n",
            "_________________________________________________________________\n",
            "dense_4 (Dense)              (None, 1)                 81        \n",
            "=================================================================\n",
            "Total params: 7,625\n",
            "Trainable params: 7,625\n",
            "Non-trainable params: 0\n",
            "_________________________________________________________________\n",
            "WARNING:tensorflow:From /usr/local/lib/python3.6/dist-packages/keras/optimizers.py:793: The name tf.train.Optimizer is deprecated. Please use tf.compat.v1.train.Optimizer instead.\n",
            "\n"
          ],
          "name": "stdout"
        }
      ]
    },
    {
      "cell_type": "code",
      "metadata": {
        "id": "EqyD5vErL1J5",
        "colab_type": "code",
        "colab": {
          "base_uri": "https://localhost:8080/",
          "height": 52
        },
        "outputId": "0453b303-6e39-4df1-a3cc-8dc7f02ce17c"
      },
      "source": [
        "# run the model\n",
        "\n",
        "# Note using callbacks from ( https://www.machinecurve.com/index.php/2019/05/30/avoid-wasting-resources-with-earlystopping-and-modelcheckpoint-in-keras/ )\n",
        "checkpoint_path = os.path.join(workspace, 'testmodel_random_callback_save2.h5')\n",
        "\n",
        "keras_callbacks   = [EarlyStopping(monitor='val_loss', patience=300, mode='min', min_delta=0.001),\n",
        "                      ModelCheckpoint(checkpoint_path, monitor='val_loss', save_best_only=True, mode='min')]\n",
        "\n",
        "history = model.fit(X_train, y_train, epochs=2000,verbose=0, validation_data =(X_val,  y_val), callbacks=keras_callbacks)\n",
        "\n",
        "## load the best saved model based on validation loss\n",
        "model = load_model(checkpoint_path)\n",
        "scores = model.evaluate(X_train, y_train, verbose=1)\n",
        "print(f'Score: {model.metrics_names[0]} of {scores[0]}; {model.metrics_names[1]} of {scores[1]*100}%')"
      ],
      "execution_count": 68,
      "outputs": [
        {
          "output_type": "stream",
          "text": [
            "981/981 [==============================] - 0s 92us/step\n",
            "Score: loss of 0.36881561417827546; mean_squared_error of 36.88156141782755%\n"
          ],
          "name": "stdout"
        }
      ]
    },
    {
      "cell_type": "code",
      "metadata": {
        "id": "JS-W1AgnL1He",
        "colab_type": "code",
        "colab": {
          "base_uri": "https://localhost:8080/",
          "height": 560
        },
        "outputId": "e4c7322d-5a22-4023-9d8f-722e14d10b53"
      },
      "source": [
        "#### Plot results\n",
        "fig, ax = plt.subplots(1, 3, figsize=(9, 3))\n",
        "####################################################     DELETE   fig.suptitle('Validation test plots', fontsize=16)\n",
        "\n",
        "######## plot 1 to 1 for # view results of predictions on the calibration data \n",
        "y_pred_calibration = model.predict(X_train)\n",
        "y_pred_calibration = y_train_scaler.inverse_transform(y_pred_calibration)    # unscale the final data baed on the scaler from the initial scaling cell abovee\n",
        "\n",
        "xcal = np.squeeze(train_data[y_col].values)\n",
        "ycal = np.squeeze(y_pred_calibration)\n",
        "slope, intercept, r_value, p_value, std_err = scipy.stats.linregress(xcal, ycal)                              # get stats on regression\n",
        "mea = np.mean(np.abs(xcal-ycal))\n",
        "rmse = np.sqrt(np.mean(np.abs(xcal-ycal)**2))                                     # couple more basic stats on the residuals, Mean absolute errir and root RMSE root mean squared error\n",
        "Std_RMSE = rmse/((np.mean(xcal)+np.mean(ycal))/2)                                 # standardize the RMSE as a % of the mean\n",
        "ax[0].plot(np.unique(xcal), np.poly1d(np.polyfit(xcal, ycal, 1))(np.unique(xcal)),  color = 'k', linestyle = \"--\")    # plot the linear regresion line \n",
        "ax[0].scatter(xcal, ycal, label=\"r2={0:1.2f}, slope={1:1.2f}\\nRMSE={2:1.2f} S_RMSE={3:1.2f}\".format(r_value, slope, rmse, Std_RMSE))   \n",
        "ax[0].set_title('Actual vs simulated data Calibration')\n",
        "ax[0].legend()\n",
        "plt.tight_layout()\n",
        "\n",
        "###### Plot losses\n",
        "ax[1].set_title('Loss vs. Epoch {}'.format(y_col))\n",
        "ax[1].plot(history.history['loss'])\n",
        "ax[1].plot(history.history['val_loss'])\n",
        "plt.tight_layout()\n",
        "\n",
        "###### plot 1 to 1 for # view results of predictions on the validation data \n",
        "y_pred_validation = model.predict(X_val)\n",
        "y_pred_validation = y_val_scaler.inverse_transform(y_pred_validation)    # unscale the final data baed on the scaler from the initial scaling cell abovee\n",
        "plt.tight_layout()\n",
        "\n",
        "xval = np.squeeze(val_data[y_col].values)\n",
        "yval = np.squeeze(y_pred_validation)\n",
        "slope, intercept, r_value, p_value, std_err = scipy.stats.linregress(xval, yval)                              # get stats on regression\n",
        "mea = np.mean(np.abs(xval-yval))\n",
        "rmse = np.sqrt(np.mean(np.abs(xval-yval)**2))                                     # couple more basic stats on the residuals, Mean absolute errir and root RMSE root mean squared error\n",
        "Std_RMSE = rmse/((np.mean(xval)+np.mean(yval))/2)                                 # standardize the RMSE as a % of the mean\n",
        "ax[2].plot(np.unique(xval), np.poly1d(np.polyfit(xval, yval, 1))(np.unique(xval)),  color = 'k', linestyle = \"--\")    # plot the linear regresion line \n",
        "ax[2].scatter(xval, yval, label=\"r2={0:1.2f}, slope={1:1.2f}\\nRMSE={2:1.2f} S_RMSE={3:1.2f}\".format(r_value, slope, rmse, Std_RMSE))   \n",
        "ax[2].set_title('Actual vs simulated data Validation')\n",
        "ax[2].legend()\n",
        "plt.tight_layout() \n",
        "\n",
        "##### time series plot\n",
        "plt.figure(figsize=(8, 3))\n",
        "plt.plot(train_data.index, ycal, label='Predicted train {}'.format(y_col))\n",
        "train_data[y_col].plot(label='Actual train {}'.format(y_col) , alpha = .5)\n",
        "plt.plot(val_data.index, yval, label='Predicted validate')\n",
        "val_data[y_col].plot(label='Actual validate', alpha = .5)\n",
        "plt.legend(loc='best')\n",
        "plt.tight_layout()"
      ],
      "execution_count": 73,
      "outputs": [
        {
          "output_type": "stream",
          "text": [
            "/usr/local/lib/python3.6/dist-packages/pandas/plotting/_matplotlib/converter.py:103: FutureWarning: Using an implicitly registered datetime converter for a matplotlib plotting method. The converter was registered by pandas on import. Future versions of pandas will require you to explicitly register matplotlib converters.\n",
            "\n",
            "To register the converters:\n",
            "\t>>> from pandas.plotting import register_matplotlib_converters\n",
            "\t>>> register_matplotlib_converters()\n",
            "  warnings.warn(msg, FutureWarning)\n"
          ],
          "name": "stderr"
        },
        {
          "output_type": "display_data",
          "data": {
            "image/png": "[encoded data removed]",
            "text/plain": [
              "<Figure size 648x216 with 3 Axes>"
            ]
          },
          "metadata": {
            "tags": []
          }
        },
        {
          "output_type": "display_data",
          "data": {
            "image/png": "[encoded data removed]",
            "text/plain": [
              "<Figure size 576x216 with 1 Axes>"
            ]
          },
          "metadata": {
            "tags": []
          }
        }
      ]
    },
    {
      "cell_type": "code",
      "metadata": {
        "id": "OM3JIOwxVSVb",
        "colab_type": "code",
        "colab": {}
      },
      "source": [
        ""
      ],
      "execution_count": 0,
      "outputs": []
    },
    {
      "cell_type": "code",
      "metadata": {
        "id": "_0CpRsYYVSZ9",
        "colab_type": "code",
        "colab": {
          "base_uri": "https://localhost:8080/",
          "height": 297
        },
        "outputId": "873e8c9e-7e64-44dc-ed19-206c9523048e"
      },
      "source": [
        "X_fill = preciprawdata['Precip_mm'].to_numpy()\n",
        "X_fill =  X_train_scaler.transform([X_fill])                           # scale existing data in other columns \n",
        "\n",
        "# now model streamflow for the whole period where we have precip data\n",
        "y_pred_fill = model.predict(np.squeeze(X_fill))\n",
        "y_pred_fill = y_train_scaler.inverse_transform(y_pred_fill)    # unscale the final data baed on the scaler from the initial scaling cell above \n",
        "\n",
        "Magicdata = preciprawdata.copy()\n",
        "Magicdata['DL_Q_cfs'] = y_pred_fill\n",
        "\n",
        "Magicdata.plot()"
      ],
      "execution_count": 95,
      "outputs": [
        {
          "output_type": "execute_result",
          "data": {
            "text/plain": [
              "<matplotlib.axes._subplots.AxesSubplot at 0x7f51c6519978>"
            ]
          },
          "metadata": {
            "tags": []
          },
          "execution_count": 95
        },
        {
          "output_type": "display_data",
          "data": {
            "image/png": "[encoded data removed]",
            "text/plain": [
              "<Figure size 432x288 with 1 Axes>"
            ]
          },
          "metadata": {
            "tags": []
          }
        }
      ]
    },
    {
      "cell_type": "code",
      "metadata": {
        "id": "N8KMH8tkVSdc",
        "colab_type": "code",
        "colab": {
          "base_uri": "https://localhost:8080/",
          "height": 35
        },
        "outputId": "7a1b2241-f604-4ebf-a7a2-74e3364df53b"
      },
      "source": [
        "Magicdata['DL_Q_cfs'].mean()"
      ],
      "execution_count": 97,
      "outputs": [
        {
          "output_type": "execute_result",
          "data": {
            "text/plain": [
              "7.268522262573242"
            ]
          },
          "metadata": {
            "tags": []
          },
          "execution_count": 97
        }
      ]
    },
    {
      "cell_type": "code",
      "metadata": {
        "id": "v26Uuh8nXKc5",
        "colab_type": "code",
        "colab": {}
      },
      "source": [
        "# now need to baseflow separate, and see how it predicts BF-RO partitioning and figure out some classic hydrograph stats, med flow mean flow, 90% low flow 100 year flood etc...\n"
      ],
      "execution_count": 0,
      "outputs": []
    },
    {
      "cell_type": "code",
      "metadata": {
        "id": "OQjf_X6UYYQ2",
        "colab_type": "code",
        "colab": {}
      },
      "source": [
        ""
      ],
      "execution_count": 0,
      "outputs": []
    },
    {
      "cell_type": "code",
      "metadata": {
        "id": "laKk34NPYwP3",
        "colab_type": "code",
        "colab": {}
      },
      "source": [
        ""
      ],
      "execution_count": 0,
      "outputs": []
    },
    {
      "cell_type": "code",
      "metadata": {
        "id": "uQ4yGgdKZqU9",
        "colab_type": "code",
        "colab": {}
      },
      "source": [
        ""
      ],
      "execution_count": 0,
      "outputs": []
    }
  ]
}