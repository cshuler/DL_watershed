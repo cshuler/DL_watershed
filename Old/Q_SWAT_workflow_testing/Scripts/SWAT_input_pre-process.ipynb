{
 "cells": [
  {
   "cell_type": "markdown",
   "metadata": {},
   "source": [
    "# Clip DEMS based on shapefile boundaries\n",
    "\n",
    "Note this uses ArcPy to clip rasters, someday I would like to omit ArcPy, mainly because ESRI is terrible. "
   ]
  },
  {
   "cell_type": "code",
   "execution_count": 1,
   "metadata": {},
   "outputs": [
    {
     "ename": "ModuleNotFoundError",
     "evalue": "No module named 'arcpy'",
     "output_type": "error",
     "traceback": [
      "\u001b[1;31m---------------------------------------------------------------------------\u001b[0m",
      "\u001b[1;31mModuleNotFoundError\u001b[0m                       Traceback (most recent call last)",
      "\u001b[1;32m<ipython-input-1-8daa818a7d58>\u001b[0m in \u001b[0;36m<module>\u001b[1;34m\u001b[0m\n\u001b[0;32m      1\u001b[0m \u001b[1;32mimport\u001b[0m \u001b[0mos\u001b[0m\u001b[1;33m\u001b[0m\u001b[1;33m\u001b[0m\u001b[0m\n\u001b[1;32m----> 2\u001b[1;33m \u001b[1;32mimport\u001b[0m \u001b[0marcpy\u001b[0m\u001b[1;33m\u001b[0m\u001b[1;33m\u001b[0m\u001b[0m\n\u001b[0m\u001b[0;32m      3\u001b[0m \u001b[1;33m\u001b[0m\u001b[0m\n\u001b[0;32m      4\u001b[0m \u001b[1;33m\u001b[0m\u001b[0m\n\u001b[0;32m      5\u001b[0m \u001b[1;32mif\u001b[0m \u001b[1;32mnot\u001b[0m \u001b[0mos\u001b[0m\u001b[1;33m.\u001b[0m\u001b[0mpath\u001b[0m\u001b[1;33m.\u001b[0m\u001b[0mexists\u001b[0m\u001b[1;33m(\u001b[0m\u001b[0mos\u001b[0m\u001b[1;33m.\u001b[0m\u001b[0mpath\u001b[0m\u001b[1;33m.\u001b[0m\u001b[0mjoin\u001b[0m\u001b[1;33m(\u001b[0m\u001b[1;34m'.'\u001b[0m\u001b[1;33m,\u001b[0m \u001b[1;34m'workspace'\u001b[0m\u001b[1;33m)\u001b[0m\u001b[1;33m)\u001b[0m\u001b[1;33m:\u001b[0m\u001b[1;33m\u001b[0m\u001b[1;33m\u001b[0m\u001b[0m\n",
      "\u001b[1;31mModuleNotFoundError\u001b[0m: No module named 'arcpy'"
     ]
    }
   ],
   "source": [
    "import os\n",
    "import arcpy\n",
    "\n",
    "\n",
    "if not os.path.exists(os.path.join('.', 'workspace')):\n",
    "    os.makedirs(os.path.join('.', 'workspace'))\n",
    "workspace = os.path.join('.', 'workspace')"
   ]
  },
  {
   "cell_type": "code",
   "execution_count": null,
   "metadata": {},
   "outputs": [],
   "source": [
    "mask =   os.path.join(absolutetorelativepath, \"Island_data\\Gauges_shed_data\\Shed_masks\")\n",
    "bigDEM =     os.path.join(absolutetorelativepath, 'Island_data\\LU_Soil_DEM\\dem_prj1.tif')\n",
    "\n",
    "\n",
    "arcpy.Clip_management(bigDEM, \"#\", demout, in_template_dataset = maskin, clipping_geometry = None)"
   ]
  },
  {
   "cell_type": "code",
   "execution_count": null,
   "metadata": {},
   "outputs": [],
   "source": []
  },
  {
   "cell_type": "code",
   "execution_count": null,
   "metadata": {},
   "outputs": [],
   "source": [
    "import os\n",
    "import arcpy\n",
    "\n",
    "# absolutetorelativepath = r'C:\\Users\\WRRC_field3\\Desktop\\Chris_Stuff\\SWAT\\Automatico'\n",
    "# absolutetorelativepath = '.'\n",
    "\n",
    "\n",
    "masklist =   os.path.join(absolutetorelativepath, \"Island_data\\Gauges_shed_data\\Shed_masks\")\n",
    "bigDEM =     os.path.join(absolutetorelativepath, 'Island_data\\LU_Soil_DEM\\dem_prj1.tif')\n",
    "\n",
    "files = os.listdir(masklist)\n",
    "\n",
    "for i in files:      \n",
    "\n",
    "    if i.endswith(\".shp\"):  \n",
    "        shedname = i.split(\"_\")[0]\n",
    "\n",
    "        if not os.path.exists(os.path.join(absolutetorelativepath, shedname)) :   # workspace path\n",
    "            os.makedirs(os.path.join(absolutetorelativepath, shedname))  \n",
    "        workspace = os.path.join(absolutetorelativepath, shedname)\n",
    "   \n",
    "        maskin = os.path.join(masklist, i)\n",
    "        demout = os.path.join(workspace, \"dem.tif\".format(shedname))\n",
    "        print(demout)\n",
    "\n",
    "        arcpy.Clip_management(bigDEM, \"#\", demout, in_template_dataset = maskin, clipping_geometry = None) \n"
   ]
  },
  {
   "cell_type": "code",
   "execution_count": null,
   "metadata": {},
   "outputs": [],
   "source": []
  },
  {
   "cell_type": "code",
   "execution_count": null,
   "metadata": {},
   "outputs": [],
   "source": []
  },
  {
   "cell_type": "code",
   "execution_count": null,
   "metadata": {},
   "outputs": [],
   "source": []
  }
 ],
 "metadata": {
  "kernelspec": {
   "display_name": "Python 3",
   "language": "python",
   "name": "python3"
  },
  "language_info": {
   "codemirror_mode": {
    "name": "ipython",
    "version": 3
   },
   "file_extension": ".py",
   "mimetype": "text/x-python",
   "name": "python",
   "nbconvert_exporter": "python",
   "pygments_lexer": "ipython3",
   "version": "3.7.1"
  }
 },
 "nbformat": 4,
 "nbformat_minor": 2
}
